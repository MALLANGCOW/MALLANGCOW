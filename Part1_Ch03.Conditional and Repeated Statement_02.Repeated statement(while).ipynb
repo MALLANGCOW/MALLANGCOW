{
 "cells": [
  {
   "cell_type": "markdown",
   "id": "cfd30d4c",
   "metadata": {},
   "source": [
    "## 학습목표\n",
    "- 반복문의 이해 및 활용(while)"
   ]
  },
  {
   "cell_type": "markdown",
   "id": "a43ecdf9",
   "metadata": {},
   "source": [
    "### loop(반복문)\n",
    "- 반복적인 작업을 가능하게 해주는 도구\n",
    "- 특정 조건을 만족하는 경우 수행할 수 있음(while)\n",
    "- 리스트, 문자열, 튜플 등 컬렉션 타입의 아이템을 하나씩 순회하면서 사용 가능(for)\n",
    "- 코드 작업에서, 가장 많이 사용하는 구문 중 하나\n",
    "- 주의할 점 : while을 사용하는 경우, 반복을 멈추게 하는 장치가 필요\n",
    "    - 그렇지 않으면 셀이 무한히 수행되며, jupyter notebook의 재부팅이 필요"
   ]
  },
  {
   "cell_type": "markdown",
   "id": "be470320",
   "metadata": {},
   "source": [
    "### while 키워드\n",
    "- while 뒤의 조건이 True일 경우, while 코드 블록을 계속 수행\n",
    "- while 코드 블록\n",
    "    - if와 마찬가지로 while문 아래의 들여쓰기로 작성된 부분을 의미\n",
    "- 조건이 False가 되면 블록 수행을 멈추고 이후 코드를 실행"
   ]
  },
  {
   "cell_type": "markdown",
   "id": "d99fec89",
   "metadata": {},
   "source": [
    "#### while 키워드 이용하여 리스트의 아이템 출력하기"
   ]
  },
  {
   "cell_type": "code",
   "execution_count": 4,
   "id": "05f7278d",
   "metadata": {},
   "outputs": [
    {
     "name": "stdout",
     "output_type": "stream",
     "text": [
      "1 0\n",
      "10 1\n",
      "9 2\n",
      "24 3\n",
      "haha\n"
     ]
    }
   ],
   "source": [
    "a = [1, 10, 9, 24]\n",
    "\n",
    "i = 0 # 인덱스\n",
    "while i < len(a) :\n",
    "    print('value a[i], i)\n",
    "    i += 1\n",
    "    \n",
    "print('haha')"
   ]
  }
 ],
 "metadata": {
  "kernelspec": {
   "display_name": "Python 3 (ipykernel)",
   "language": "python",
   "name": "python3"
  },
  "language_info": {
   "codemirror_mode": {
    "name": "ipython",
    "version": 3
   },
   "file_extension": ".py",
   "mimetype": "text/x-python",
   "name": "python",
   "nbconvert_exporter": "python",
   "pygments_lexer": "ipython3",
   "version": "3.9.12"
  }
 },
 "nbformat": 4,
 "nbformat_minor": 5
}
