{
 "cells": [
  {
   "cell_type": "markdown",
   "id": "06f6c1ca",
   "metadata": {},
   "source": [
    "럭키백 안에 들어가 있을 생선 종류의 확률을 구해보자.  \n",
    "럭키백 안에 들어갈 수 있는 생선은 7개이며"
   ]
  }
 ],
 "metadata": {
  "kernelspec": {
   "display_name": "Python 3 (ipykernel)",
   "language": "python",
   "name": "python3"
  },
  "language_info": {
   "codemirror_mode": {
    "name": "ipython",
    "version": 3
   },
   "file_extension": ".py",
   "mimetype": "text/x-python",
   "name": "python",
   "nbconvert_exporter": "python",
   "pygments_lexer": "ipython3",
   "version": "3.9.12"
  }
 },
 "nbformat": 4,
 "nbformat_minor": 5
}
