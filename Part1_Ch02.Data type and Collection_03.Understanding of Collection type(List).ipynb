{
 "cells": [
  {
   "cell_type": "markdown",
   "id": "1c82a662",
   "metadata": {},
   "source": [
    "### 리스트 & 튜플\n",
    "- 복수개의 값을 담을 수 있는 데이터 구조\n",
    "- 실생활에서 사용하는 리스트(학생 리스트, 성적 리스트 등등)과 동일한 의미로 이해\n",
    "- list - mutable(생성된 후에 변경 가능)\n",
    "- tuple - immutable(생성된 후에 변경 불가능)"
   ]
  },
  {
   "cell_type": "markdown",
   "id": "ba47e1a9",
   "metadata": {},
   "source": [
    "#### 리스트 초기화\n",
    "- []안에 값을 담아서 생성\n",
    "- list() 함수로 생성\n",
    "- str.split() 함수로 생성"
   ]
  },
  {
   "cell_type": "code",
   "execution_count": 97,
   "id": "934d2345",
   "metadata": {},
   "outputs": [
    {
     "name": "stdout",
     "output_type": "stream",
     "text": [
      "[]\n"
     ]
    }
   ],
   "source": [
    "a = []\n",
    "print(a)"
   ]
  },
  {
   "cell_type": "code",
   "execution_count": 98,
   "id": "984fa5bd",
   "metadata": {},
   "outputs": [
    {
     "name": "stdout",
     "output_type": "stream",
     "text": [
      "[1, 2, 3, 5, 10]\n"
     ]
    }
   ],
   "source": [
    "a = [1, 2, 3, 5, 10]\n",
    "print(a)"
   ]
  },
  {
   "cell_type": "code",
   "execution_count": 99,
   "id": "d2dd74c0",
   "metadata": {},
   "outputs": [
    {
     "name": "stdout",
     "output_type": "stream",
     "text": [
      "['korea', 'canada', 1, 23, [34, 56]]\n"
     ]
    }
   ],
   "source": [
    "a = ['korea', 'canada', 1, 23, [34, 56]]\n",
    "print(a)"
   ]
  },
  {
   "cell_type": "markdown",
   "id": "f362c3d8",
   "metadata": {},
   "source": [
    "- list() 함수\n",
    "    - 다른 데이터 타입을 리스트로 변환할 때도 사용"
   ]
  },
  {
   "cell_type": "code",
   "execution_count": 100,
   "id": "36c02c39",
   "metadata": {},
   "outputs": [
    {
     "name": "stdout",
     "output_type": "stream",
     "text": [
      "['h', 'e', 'l', 'l', 'o', ' ', 'w', 'o', 'r', 'l', 'd']\n",
      "[1, 2, 3]\n"
     ]
    }
   ],
   "source": [
    "a = 'hello world'\n",
    "b = list(a)\n",
    "print(b)\n",
    "\n",
    "c = (1, 2, 3) # 튜플 생성\n",
    "d = list(c)\n",
    "print(d)"
   ]
  },
  {
   "cell_type": "markdown",
   "id": "254c4818",
   "metadata": {},
   "source": [
    "- string split 함수\n",
    "    - 구분자로 구분되는 리스트를 반환(자주 사용 됨)"
   ]
  },
  {
   "cell_type": "code",
   "execution_count": 101,
   "id": "05c65787",
   "metadata": {},
   "outputs": [
    {
     "name": "stdout",
     "output_type": "stream",
     "text": [
      "['hello', 'world', 'nice', 'weather']\n"
     ]
    }
   ],
   "source": [
    "a = 'hello world nice weather'\n",
    "b = a.split()\n",
    "\n",
    "print(b)"
   ]
  },
  {
   "cell_type": "markdown",
   "id": "1d591f9a",
   "metadata": {},
   "source": [
    "#### 리스트 indexing\n",
    "- 문자열의 인덱싱과 동일하게 동작\n",
    "- [] 연산자를 이용하여 항목 얻어오기\n",
    "- [i] i번째 원소를 반환\n",
    "- i가 음수인 경우도 가능하며 마지막 원소가 -1로 하여 앞으로 갈 때 마다 1씩 감소함"
   ]
  },
  {
   "cell_type": "code",
   "execution_count": 102,
   "id": "9429411f",
   "metadata": {},
   "outputs": [
    {
     "name": "stdout",
     "output_type": "stream",
     "text": [
      "3\n",
      "6\n",
      "6\n"
     ]
    }
   ],
   "source": [
    "a = [1, 2, 3, 4, 5, 6]\n",
    "print(a[2])\n",
    "print(a[5])\n",
    "print(a[-1])"
   ]
  },
  {
   "cell_type": "markdown",
   "id": "7698bbd9",
   "metadata": {},
   "source": [
    "#### 리스트 개별 아이템에 접근\n",
    "- 인덱스에 접근하여 값을 업데이트 가능"
   ]
  },
  {
   "cell_type": "code",
   "execution_count": 103,
   "id": "3d827469",
   "metadata": {},
   "outputs": [
    {
     "name": "stdout",
     "output_type": "stream",
     "text": [
      "h\n",
      "jello world hello world\n",
      "jello world\n",
      "hello world\n"
     ]
    }
   ],
   "source": [
    "# 불변(immutable) - 문자열은 불변이다.\n",
    "a = 'hello world'\n",
    "print(a[0])\n",
    "\n",
    "# a[0] = 'j'\n",
    "#---------------------------------------------------------------------------\n",
    "#TypeError                                 Traceback (most recent call last)\n",
    "#Input In [17], in <cell line: 4>()\n",
    "#      1 a = 'hello world'\n",
    "#      2 print(a[0])\n",
    "#----> 4 a[0] = 'j'\n",
    "#\n",
    "#TypeError: 'str' object does not support item assignment\n",
    "\n",
    "# 문자열을 바꾸고 싶다면\n",
    "b = 'jello world'\n",
    "c = 'h' + a[1:]\n",
    "print(b, c)\n",
    "\n",
    "print(a.replace('h', 'j'))\n",
    "print(a) # a는 하지만 바뀌지 않았다. a자체를 변경하지 않았기 때문"
   ]
  },
  {
   "cell_type": "code",
   "execution_count": 104,
   "id": "2f43055c",
   "metadata": {},
   "outputs": [
    {
     "name": "stdout",
     "output_type": "stream",
     "text": [
      "[100, 2, 3, 4, 90]\n"
     ]
    }
   ],
   "source": [
    "a = [1, 2, 3, 4, 5]\n",
    "a[0] = 100\n",
    "a[-1] = 90\n",
    "\n",
    "print(a)"
   ]
  },
  {
   "cell_type": "markdown",
   "id": "18508c3c",
   "metadata": {},
   "source": [
    "#### 리스트 slicing\n",
    "- 문자열 슬라이싱과 동일하게 동작\n",
    "- 슬라이싱의 결과 역시 list"
   ]
  },
  {
   "cell_type": "code",
   "execution_count": 105,
   "id": "1f9e128d",
   "metadata": {
    "scrolled": true
   },
   "outputs": [
    {
     "name": "stdout",
     "output_type": "stream",
     "text": [
      "[5, 6, 7]\n",
      "[1, 2, 3, 4, 5, 6, 7]\n",
      "[4, 5, 6, 7, 8]\n",
      "[1, 2, 3, 4, 5, 6, 7, 8]\n"
     ]
    },
    {
     "data": {
      "text/plain": [
       "[2, 4, 6]"
      ]
     },
     "execution_count": 105,
     "metadata": {},
     "output_type": "execute_result"
    }
   ],
   "source": [
    "a = [1, 2, 3, 4, 5, 6, 7, 8]\n",
    "print(a[4:7])\n",
    "print(a[:7])\n",
    "print(a[3:])\n",
    "print(a[:])\n",
    "\n",
    "# slicing\n",
    "# start:end:increment(1)\n",
    "\n",
    "a[1:7:2]"
   ]
  },
  {
   "cell_type": "markdown",
   "id": "1b1ec56c",
   "metadata": {},
   "source": [
    "#### list 멤버 함수\n",
    "- 생성된 리스트 객체에 동작하는 함수\n",
    "- 향후, 클래스와 멤버 함수 개념을 이해할 예정"
   ]
  },
  {
   "cell_type": "markdown",
   "id": "a57a022b",
   "metadata": {},
   "source": [
    "- append()\n",
    "    - 리스트의 끝에 항목을 추가함"
   ]
  },
  {
   "cell_type": "code",
   "execution_count": 106,
   "id": "be3569ea",
   "metadata": {},
   "outputs": [
    {
     "name": "stdout",
     "output_type": "stream",
     "text": [
      "[1, 2, 3, 4, 5, 10]\n"
     ]
    }
   ],
   "source": [
    "a = [1, 2, 3, 4, 5]\n",
    "a.append(10)\n",
    "print(a)"
   ]
  },
  {
   "cell_type": "markdown",
   "id": "8c029a91",
   "metadata": {},
   "source": [
    "- extend()\n",
    "    - 리스트를 연장\n",
    "    - += 로도 가능함"
   ]
  },
  {
   "cell_type": "code",
   "execution_count": 107,
   "id": "36a71ef7",
   "metadata": {},
   "outputs": [
    {
     "name": "stdout",
     "output_type": "stream",
     "text": [
      "[1, 2, 3, 4, 5, [6, 7, 8, 9, 10]]\n",
      "[1, 2, 3, 4, 5, 6, 7, 8, 9, 10]\n",
      "[1, 2, 3, 4, 5, 6, 7, 8, 9, 10]\n"
     ]
    }
   ],
   "source": [
    "a = [1, 2, 3, 4, 5]\n",
    "b = [6, 7, 8, 9, 10]\n",
    "\n",
    "#[1, 2, 3, 4, 5, 6, 7, 8, 9, 10]\n",
    "a.append(b)\n",
    "print(a)\n",
    "\n",
    "a = [1, 2, 3, 4, 5]\n",
    "a.extend(b) # print(a.extend(b)) 를 쓰면 None이 출력된다. \n",
    "            # 왜냐하면 a.extend() 자체는 반환값이 None이다. 그저 리스트 자체를 변화시키기만 한다.\n",
    "print(a)\n",
    "\n",
    "a = [1, 2, 3, 4, 5] \n",
    "a += b # a = a + b 와 같다.\n",
    "print(a)"
   ]
  },
  {
   "cell_type": "markdown",
   "id": "4b254869",
   "metadata": {},
   "source": [
    "- insert()로 항목 추가\n",
    "     - 리스트의 원하는 위치에 구가 가능\n",
    "     - 앞에 인덱스를, 뒤에 아이템을 명시"
   ]
  },
  {
   "cell_type": "code",
   "execution_count": 108,
   "id": "54c664a2",
   "metadata": {},
   "outputs": [
    {
     "name": "stdout",
     "output_type": "stream",
     "text": [
      "[1, 40, 3, 4, 5, 6]\n"
     ]
    }
   ],
   "source": [
    "a = [1, 3, 4, 5, 6]\n",
    "a.insert(1, 40)\n",
    "\n",
    "print(a)"
   ]
  },
  {
   "cell_type": "markdown",
   "id": "4fe2e56a",
   "metadata": {},
   "source": [
    "- remove()\n",
    "    - 값으로 항목 삭제"
   ]
  },
  {
   "cell_type": "code",
   "execution_count": 109,
   "id": "f10f2bbe",
   "metadata": {},
   "outputs": [
    {
     "name": "stdout",
     "output_type": "stream",
     "text": [
      "[1, 3, 4, 5]\n",
      "[1, 2, 3, 4, 2, 5]\n"
     ]
    }
   ],
   "source": [
    "a = [1, 2, 3, 4, 5]\n",
    "a.remove(2)\n",
    "\n",
    "print(a)\n",
    "\n",
    "a = [1, 2, 2, 3, 4, 2, 5]\n",
    "a.remove(2) # 맨 앞의 2 하나만 지운다.\n",
    "\n",
    "print(a)"
   ]
  },
  {
   "cell_type": "markdown",
   "id": "e417ed03",
   "metadata": {},
   "source": [
    "- pop()\n",
    "    - 지우고자 하는 아이템을 반환 후, 삭제"
   ]
  },
  {
   "cell_type": "code",
   "execution_count": 110,
   "id": "3bd2f14e",
   "metadata": {},
   "outputs": [
    {
     "name": "stdout",
     "output_type": "stream",
     "text": [
      "[1, 2, 3, 4]\n",
      "[1, 2, 4, 5]\n",
      "3\n"
     ]
    }
   ],
   "source": [
    "a = [1, 2, 3, 4, 5]\n",
    "a.pop() # 기본적으로는 마지막 값을 지운다.\n",
    "\n",
    "print(a)\n",
    "\n",
    "a = [1, 2, 3, 4, 5]\n",
    "d = a.pop(2)\n",
    "print(a)\n",
    "print(d)"
   ]
  },
  {
   "cell_type": "markdown",
   "id": "aaac9561",
   "metadata": {},
   "source": [
    "- index()\n",
    "    - 찾고자 하는 값의 인덱스 반환"
   ]
  },
  {
   "cell_type": "code",
   "execution_count": 111,
   "id": "1ab74fe5",
   "metadata": {},
   "outputs": [
    {
     "data": {
      "text/plain": [
       "1"
      ]
     },
     "execution_count": 111,
     "metadata": {},
     "output_type": "execute_result"
    }
   ],
   "source": [
    "a = [2, 6, 7, 9, 10]\n",
    "a.index(6)"
   ]
  },
  {
   "cell_type": "markdown",
   "id": "f854dbdf",
   "metadata": {},
   "source": [
    "- in 키워드\n",
    "    - 리스트 내에 해당 값이 존재하는지 확인\n",
    "    - value in [list]\n",
    "    - True, False 중 한 가지로 반환"
   ]
  },
  {
   "cell_type": "code",
   "execution_count": 112,
   "id": "f1468638",
   "metadata": {},
   "outputs": [
    {
     "name": "stdout",
     "output_type": "stream",
     "text": [
      "False\n",
      "True\n"
     ]
    }
   ],
   "source": [
    "a = [1, 2, 3, 4, 5, 10]\n",
    "b = 7\n",
    "c = 4\n",
    "\n",
    "d = b in a\n",
    "e = c in a\n",
    "print(d)\n",
    "print(e)"
   ]
  },
  {
   "cell_type": "markdown",
   "id": "fcde3079",
   "metadata": {},
   "source": [
    "- list 정렬\n",
    "    - sort() → 리스트 자체를 내부적으로 정렬\n",
    "    - sorted() → 리스트의 정렬된 복사본을 반환"
   ]
  },
  {
   "cell_type": "code",
   "execution_count": 116,
   "id": "10070872",
   "metadata": {},
   "outputs": [
    {
     "name": "stdout",
     "output_type": "stream",
     "text": [
      "[1, 2, 7, 7, 8, 9, 10, 19, 20, 21]\n",
      "None\n",
      "[21, 20, 19, 10, 9, 8, 7, 7, 2, 1]\n",
      "[1, 2, 7, 7, 8, 9, 10, 19, 20, 21]\n",
      "[1, 2, 7, 7, 8, 9, 10, 19, 20, 21]\n"
     ]
    }
   ],
   "source": [
    "a = [9, 10, 7, 19, 1, 2, 20, 21, 7, 8]\n",
    "a.sort()\n",
    "print(a)\n",
    "print(a.sort()) # a.sort는 a 리스트를 단지 정렬만 해주는 함수이다. 반환값이 None이다.\n",
    "\n",
    "a.sort(reverse=True)\n",
    "print(a)\n",
    "\n",
    "b = sorted(a)\n",
    "print(b)\n",
    "print(sorted(a))"
   ]
  }
 ],
 "metadata": {
  "kernelspec": {
   "display_name": "Python 3 (ipykernel)",
   "language": "python",
   "name": "python3"
  },
  "language_info": {
   "codemirror_mode": {
    "name": "ipython",
    "version": 3
   },
   "file_extension": ".py",
   "mimetype": "text/x-python",
   "name": "python",
   "nbconvert_exporter": "python",
   "pygments_lexer": "ipython3",
   "version": "3.9.12"
  }
 },
 "nbformat": 4,
 "nbformat_minor": 5
}
