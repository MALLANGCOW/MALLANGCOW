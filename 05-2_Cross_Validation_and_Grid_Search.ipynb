{
 "cells": [
  {
   "cell_type": "markdown",
   "id": "c7b68ffe",
   "metadata": {},
   "source": [
    "지금까지 훈련 세트에서 모델을 훈련하고 테스트 세트에서 모델을 평가하였다."
   ]
  },
  {
   "cell_type": "code",
   "execution_count": null,
   "id": "d2dcaadd",
   "metadata": {},
   "outputs": [],
   "source": []
  }
 ],
 "metadata": {
  "kernelspec": {
   "display_name": "Python 3 (ipykernel)",
   "language": "python",
   "name": "python3"
  },
  "language_info": {
   "codemirror_mode": {
    "name": "ipython",
    "version": 3
   },
   "file_extension": ".py",
   "mimetype": "text/x-python",
   "name": "python",
   "nbconvert_exporter": "python",
   "pygments_lexer": "ipython3",
   "version": "3.9.12"
  }
 },
 "nbformat": 4,
 "nbformat_minor": 5
}
