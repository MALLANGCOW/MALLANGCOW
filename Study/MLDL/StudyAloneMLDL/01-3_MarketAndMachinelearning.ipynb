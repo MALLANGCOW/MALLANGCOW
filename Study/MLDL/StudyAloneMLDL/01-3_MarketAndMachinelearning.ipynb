{
 "cells": [
  {
   "cell_type": "markdown",
   "id": "1343ca0e",
   "metadata": {},
   "source": [
    "### 이진 분류  \n",
    "머신러닝에서 여러 개의 종류(혹은 <font color=purple>클래스</font>(class))중 하나를 구별해 내는 문제를 <font color=purple>분류</font>(classification)라고 한다. 특히 이 장에서처럼 2개의 클래스 중 하나를 고르는 문제를 <font color=purple>이진 분류</font>(binary classification)라고 한다."
   ]
  },
  {
   "cell_type": "code",
   "execution_count": 2,
   "id": "63f6bc64",
   "metadata": {},
   "outputs": [],
   "source": [
    "bream_length = [25.4, 26.3, 26.5, 29.0, 29.0, 29.7, 29.7, 30.0, 30.0, 30.7, 31.0, 31.0, \n",
    "                31.5, 32.0, 32.0, 32.0, 33.0, 33.0, 33.5, 33.5, 34.0, 34.0, 34.5, 35.0, \n",
    "                35.0, 35.0, 35.0, 36.0, 36.0, 37.0, 38.5, 38.5, 39.5, 41.0, 41.0]\n",
    "bream_weight = [242.0, 290.0, 340.0, 363.0, 430.0, 450.0, 500.0, 390.0, 450.0, 500.0, 475.0, 500.0, \n",
    "                500.0, 340.0, 600.0, 600.0, 700.0, 700.0, 610.0, 650.0, 575.0, 685.0, 620.0, 680.0, \n",
    "                700.0, 725.0, 720.0, 714.0, 850.0, 1000.0, 920.0, 955.0, 925.0, 975.0, 950.0]"
   ]
  },
  {
   "cell_type": "code",
   "execution_count": 3,
   "id": "c30e8984",
   "metadata": {},
   "outputs": [
    {
     "data": {
      "image/png": "[encoded data removed]",
      "text/plain": [
       "<Figure size 432x288 with 1 Axes>"
      ]
     },
     "metadata": {
      "needs_background": "light"
     },
     "output_type": "display_data"
    }
   ],
   "source": [
    "import matplotlib.pyplot as plt #matplotlib의 pyplot 함수를 plt로 줄여서 사용\n",
    "\n",
    "plt.scatter(bream_length, bream_weight)\n",
    "plt.xlabel('length') # x축은 길이\n",
    "plt.ylabel('weight') # y축은 무게\n",
    "plt.show()\n"
   ]
  },
  {
   "cell_type": "markdown",
   "id": "5f7f28cc",
   "metadata": {},
   "source": [
    "### matplotlib\n",
    "scatter()는 산점도를 그리는 맷플롯립 함수. 처음 2개의 매개변수로 x축 값과 y축 값을 전달함. 이 값은 파이썬 리스트 또는 넘파이 배열이다.  \n",
    "- c 매개변수로 색깔을 지정할 수 있다. 색깔코드 'b', 'g', 'r', 'c', 'm', 'y' 등 다양하다. 기본 색깔은 https://bit.ly/matplotlib_prop_cycle 을 참고하자. \n",
    "- marker 매개변수로 마커 스타일을 지정할 수 있다. marker의 기본값은 o(circle, 원)이다. 지정 가능한 마커의 종류는 https://bit.ly/matplotlib_marker 를 참고하자."
   ]
  },
  {
   "cell_type": "code",
   "execution_count": 4,
   "id": "88b0ae8c",
   "metadata": {},
   "outputs": [],
   "source": [
    "smelt_length = [9.8, 10.5, 10.6, 11.0, 11.2, 11.3, 11.8, 11.8, 12.0, 12.2, 12.4, 13.0, 14.3, 15.0]\n",
    "smelt_weight = [6.7, 7.5, 7.0, 9.7, 9.8, 8.7, 10.0, 9.9, 9.8, 12.2, 13.4, 12.2, 19.7, 19.9]"
   ]
  },
  {
   "cell_type": "code",
   "execution_count": 5,
   "id": "09765671",
   "metadata": {
    "scrolled": true
   },
   "outputs": [
    {
     "data": {
      "image/png": "[encoded data removed]",
      "text/plain": [
       "<Figure size 432x288 with 1 Axes>"
      ]
     },
     "metadata": {
      "needs_background": "light"
     },
     "output_type": "display_data"
    }
   ],
   "source": [
    "plt.scatter(bream_length, bream_weight)\n",
    "plt.scatter(smelt_length, smelt_weight)\n",
    "plt.xlabel('length') # x축은 길이\n",
    "plt.ylabel('weight') # y축은 무게\n",
    "plt.show()"
   ]
  },
  {
   "cell_type": "markdown",
   "id": "b72d6e0a",
   "metadata": {},
   "source": [
    "### 첫 번째 머신러닝 프로그램  \n",
    "가장 간단하고 이해하기 쉬운 <font color=purple>k-최근접 이웃</font>(k-Nearest Neighbors)알고리즘을 사용해 도미와 방어 데이터를 구분해 보자.  \n",
    "  \n",
    "k-최근접 이웃 알고리즘을 사용하기 전에 앞에서 준비했던 도미와 빙어 데이터를 하나의 데이터로 합친다."
   ]
  },
  {
   "cell_type": "code",
   "execution_count": 6,
   "id": "d0dd2b70",
   "metadata": {},
   "outputs": [],
   "source": [
    "length = bream_length + smelt_length\n",
    "weight = bream_weight + smelt_weight"
   ]
  },
  {
   "cell_type": "markdown",
   "id": "1741aa7c",
   "metadata": {},
   "source": [
    "이 책에서 사용하는 머신러닝 패키지는 <font color=purple>사이킷런</font>(scikit-learn)이다. 이 패키지를 사용하려면 다음과 같이 각 특성의 리스트를 세로 방향으로 늘어뜨린 2차원 리스트를 만들어야 한다.  \n",
    "  \n",
    "그렇게 만드는 가장 쉬운 방법은 파이썬의 zip() 함수와 리스트 내포(list comprehension) 구문을 사용하는 것이다.  \n",
    "  \n",
    "zip() 함수는 나열된 리스트 각각에서 하나씩 원소를 꺼내 반환한다. zip() 함수와 리스트 내포 구문을 사용해 length와 weight 리스트를 2차원 리스트로 만들어 보자."
   ]
  },
  {
   "cell_type": "code",
   "execution_count": 7,
   "id": "3edd5f15",
   "metadata": {},
   "outputs": [],
   "source": [
    "fish_data = [[l,w] for l, w in zip(length, weight)] # zip() 함수는 나열된 리스트에서 원소를 하나씩 꺼내주는 일을 한다."
   ]
  },
  {
   "cell_type": "code",
   "execution_count": 8,
   "id": "e503172a",
   "metadata": {},
   "outputs": [
    {
     "name": "stdout",
     "output_type": "stream",
     "text": [
      "[[25.4, 242.0], [26.3, 290.0], [26.5, 340.0], [29.0, 363.0], [29.0, 430.0], [29.7, 450.0], [29.7, 500.0], [30.0, 390.0], [30.0, 450.0], [30.7, 500.0], [31.0, 475.0], [31.0, 500.0], [31.5, 500.0], [32.0, 340.0], [32.0, 600.0], [32.0, 600.0], [33.0, 700.0], [33.0, 700.0], [33.5, 610.0], [33.5, 650.0], [34.0, 575.0], [34.0, 685.0], [34.5, 620.0], [35.0, 680.0], [35.0, 700.0], [35.0, 725.0], [35.0, 720.0], [36.0, 714.0], [36.0, 850.0], [37.0, 1000.0], [38.5, 920.0], [38.5, 955.0], [39.5, 925.0], [41.0, 975.0], [41.0, 950.0], [9.8, 6.7], [10.5, 7.5], [10.6, 7.0], [11.0, 9.7], [11.2, 9.8], [11.3, 8.7], [11.8, 10.0], [11.8, 9.9], [12.0, 9.8], [12.2, 12.2], [12.4, 13.4], [13.0, 12.2], [14.3, 19.7], [15.0, 19.9]]\n"
     ]
    }
   ],
   "source": [
    "print(fish_data)"
   ]
  },
  {
   "cell_type": "code",
   "execution_count": 9,
   "id": "e443f369",
   "metadata": {},
   "outputs": [
    {
     "name": "stdout",
     "output_type": "stream",
     "text": [
      "[1, 1, 1, 1, 1, 1, 1, 1, 1, 1, 1, 1, 1, 1, 1, 1, 1, 1, 1, 1, 1, 1, 1, 1, 1, 1, 1, 1, 1, 1, 1, 1, 1, 1, 1, 0, 0, 0, 0, 0, 0, 0, 0, 0, 0, 0, 0, 0, 0]\n"
     ]
    }
   ],
   "source": [
    "fish_target = [1] * 35 + [0] * 14\n",
    "print(fish_target)"
   ]
  },
  {
   "cell_type": "code",
   "execution_count": 10,
   "id": "d414bdae",
   "metadata": {},
   "outputs": [],
   "source": [
    "from sklearn.neighbors import KNeighborsClassifier"
   ]
  },
  {
   "cell_type": "markdown",
   "id": "d032a174",
   "metadata": {},
   "source": [
    "K-최근접 알고리즘 사용을 위한 임포트  \n",
    "K-최근접 알고리즘 : 어떤 데이터에 대한 답을 구할 때 주위의 다른 데이터를 보고 다수를 차지하는 것을 정답으로 결정"
   ]
  },
  {
   "cell_type": "markdown",
   "id": "9f84425b",
   "metadata": {},
   "source": [
    "KNeighborsClassifier()는 k-최근접 이웃 분류 모델을 만드는 사이킷런 클래스이다.  \n",
    "n_neighbors 매개변수로 이웃의 개수를 지정 가능. 기본값은 5이다.  \n",
    "p 매개변수로 거리를 재는 방법을 지정할 수 있다. 1일 경우 맨해튼거리를 사용, 2일 경우는 유클리디안 거리를 사용. 기본값은 2이다."
   ]
  },
  {
   "cell_type": "code",
   "execution_count": 11,
   "id": "2b417f69",
   "metadata": {},
   "outputs": [],
   "source": [
    "kn = KNeighborsClassifier()"
   ]
  },
  {
   "cell_type": "code",
   "execution_count": 12,
   "id": "f53ecaba",
   "metadata": {
    "scrolled": true
   },
   "outputs": [
    {
     "data": {
      "text/plain": [
       "KNeighborsClassifier()"
      ]
     },
     "execution_count": 12,
     "metadata": {},
     "output_type": "execute_result"
    }
   ],
   "source": [
    "kn.fit(fish_data, fish_target)"
   ]
  },
  {
   "cell_type": "markdown",
   "id": "af85f02c",
   "metadata": {},
   "source": [
    "fit()은 사이킷런 모델을 훈련할 때 사용하는 메서드이다. 처음 두 매개변수로 훈련에 사용할 특성과 정답 데이터를 전달."
   ]
  },
  {
   "cell_type": "code",
   "execution_count": 13,
   "id": "a41f0dc5",
   "metadata": {},
   "outputs": [
    {
     "data": {
      "text/plain": [
       "1.0"
      ]
     },
     "execution_count": 13,
     "metadata": {},
     "output_type": "execute_result"
    }
   ],
   "source": [
    "kn.score(fish_data, fish_target)"
   ]
  },
  {
   "cell_type": "markdown",
   "id": "786f5e18",
   "metadata": {},
   "source": [
    "score()는 훈련된 사이킷런 모델의 성능을 측정. 처음 두 매개변수로 특성과 정답 데이터를 전달한다. 먼저 predict() 메서드로 예측을 수행한 다음 분류 모델인 경우 정답과 비교하여 올바르게 예측한 개수의 비율을 반환한다."
   ]
  },
  {
   "cell_type": "code",
   "execution_count": 14,
   "id": "c610a016",
   "metadata": {
    "scrolled": true
   },
   "outputs": [
    {
     "data": {
      "text/plain": [
       "array([1])"
      ]
     },
     "execution_count": 14,
     "metadata": {},
     "output_type": "execute_result"
    }
   ],
   "source": [
    "kn.predict([[30,600]])"
   ]
  },
  {
   "cell_type": "markdown",
   "id": "790be144",
   "metadata": {},
   "source": [
    "predict()는 사이킷런 모델을 훈련하고 예측할 때 사용하는 메서드. 특성 데이터 하나만 매개변수로 받는다."
   ]
  },
  {
   "cell_type": "code",
   "execution_count": 15,
   "id": "b29eee5e",
   "metadata": {},
   "outputs": [
    {
     "name": "stdout",
     "output_type": "stream",
     "text": [
      "[[  25.4  242. ]\n",
      " [  26.3  290. ]\n",
      " [  26.5  340. ]\n",
      " [  29.   363. ]\n",
      " [  29.   430. ]\n",
      " [  29.7  450. ]\n",
      " [  29.7  500. ]\n",
      " [  30.   390. ]\n",
      " [  30.   450. ]\n",
      " [  30.7  500. ]\n",
      " [  31.   475. ]\n",
      " [  31.   500. ]\n",
      " [  31.5  500. ]\n",
      " [  32.   340. ]\n",
      " [  32.   600. ]\n",
      " [  32.   600. ]\n",
      " [  33.   700. ]\n",
      " [  33.   700. ]\n",
      " [  33.5  610. ]\n",
      " [  33.5  650. ]\n",
      " [  34.   575. ]\n",
      " [  34.   685. ]\n",
      " [  34.5  620. ]\n",
      " [  35.   680. ]\n",
      " [  35.   700. ]\n",
      " [  35.   725. ]\n",
      " [  35.   720. ]\n",
      " [  36.   714. ]\n",
      " [  36.   850. ]\n",
      " [  37.  1000. ]\n",
      " [  38.5  920. ]\n",
      " [  38.5  955. ]\n",
      " [  39.5  925. ]\n",
      " [  41.   975. ]\n",
      " [  41.   950. ]\n",
      " [   9.8    6.7]\n",
      " [  10.5    7.5]\n",
      " [  10.6    7. ]\n",
      " [  11.     9.7]\n",
      " [  11.2    9.8]\n",
      " [  11.3    8.7]\n",
      " [  11.8   10. ]\n",
      " [  11.8    9.9]\n",
      " [  12.     9.8]\n",
      " [  12.2   12.2]\n",
      " [  12.4   13.4]\n",
      " [  13.    12.2]\n",
      " [  14.3   19.7]\n",
      " [  15.    19.9]]\n"
     ]
    }
   ],
   "source": [
    "print(kn._fit_X)"
   ]
  },
  {
   "cell_type": "code",
   "execution_count": 16,
   "id": "c813e4c2",
   "metadata": {},
   "outputs": [
    {
     "name": "stdout",
     "output_type": "stream",
     "text": [
      "[1 1 1 1 1 1 1 1 1 1 1 1 1 1 1 1 1 1 1 1 1 1 1 1 1 1 1 1 1 1 1 1 1 1 1 0 0\n",
      " 0 0 0 0 0 0 0 0 0 0 0 0]\n"
     ]
    }
   ],
   "source": [
    "print(kn._y)"
   ]
  },
  {
   "cell_type": "code",
   "execution_count": 17,
   "id": "59f9678c",
   "metadata": {},
   "outputs": [],
   "source": [
    "kn49 = KNeighborsClassifier(n_neighbors=49)"
   ]
  },
  {
   "cell_type": "code",
   "execution_count": 18,
   "id": "4c71a59d",
   "metadata": {},
   "outputs": [
    {
     "data": {
      "text/plain": [
       "KNeighborsClassifier(n_neighbors=49)"
      ]
     },
     "execution_count": 18,
     "metadata": {},
     "output_type": "execute_result"
    }
   ],
   "source": [
    "kn49.fit(fish_data, fish_target)"
   ]
  },
  {
   "cell_type": "code",
   "execution_count": 19,
   "id": "12c56284",
   "metadata": {},
   "outputs": [
    {
     "data": {
      "text/plain": [
       "0.7142857142857143"
      ]
     },
     "execution_count": 19,
     "metadata": {},
     "output_type": "execute_result"
    }
   ],
   "source": [
    "kn49.score(fish_data, fish_target)"
   ]
  },
  {
   "cell_type": "code",
   "execution_count": 20,
   "id": "2b3ae5ae",
   "metadata": {},
   "outputs": [
    {
     "name": "stdout",
     "output_type": "stream",
     "text": [
      "0.7142857142857143\n"
     ]
    }
   ],
   "source": [
    "print(35/49)"
   ]
  },
  {
   "cell_type": "markdown",
   "id": "c44d125b",
   "metadata": {},
   "source": [
    "kn49 모델은 전체 데이터를 가지고 판단하기 때문에 도미만 올바르게 맞힘.  \n",
    "그래서 35/49 값인 0.714...... 와 동일한 스코어를 나타냄"
   ]
  },
  {
   "cell_type": "markdown",
   "id": "a5dd90bc",
   "metadata": {},
   "source": [
    "#### 결괏값은 왜 한 번만 출력될까?  \n",
    "kn49.score() 다음에 바로 print 명령을 사용하면 결괏값이 2번 출력되어야 할 것 같지만 그렇지 않다. 코드셀은 마지막 실행 코드의 반환값만을 자동 출력하기 때문이다. 모든 코드를 한 셀에 넣으면 중간의 반환값은 출력하지 않는다.  \n",
    "  \n",
    "따라서 두 값을 모두 출력하려면 각각 print 명령을 사용하거나 여러 개의 코드 셀로 나누어 작성해야 한다."
   ]
  },
  {
   "cell_type": "markdown",
   "id": "22972df6",
   "metadata": {},
   "source": [
    "### scikit-learn  \n",
    "- **KNeighborsClassifier()**는 k-최근접 이웃 분류 모델을 만드는 사이킷런 클래스이다. n_neighbors 매개변수로 이웃의 개수를 지정한다. 기본값은 5이다.\n",
    "  \n",
    "    <font color=blue>p 매개변수</font>로 거리를 재는 방법을 지정한다. 1일 경우 맨해튼 거리를 사용하고, 2일 경우 유클리디안 거리를 사용한다. 기본값은 2이다.  \n",
    "  \n",
    "    <font color=blue>n_jobs 매개변수</font>로 사용할 CPU 코어를 지정할 수 있다. -1로 설정하면 모든 CPU 코어를 사용한다. 이웃 간의 거리 계산 속도를 높일 수 있지만 fit() 메서드에는 영향이 없다. 기본값은 10이다.\n",
    "  \n",
    "- **fit()**은 사이킷런 모델을 훈련할 때 사용하는 메서드이다. 처음 두 매개변수로 훈련에 사용할 특성과 정답 데이터를 전달한다.  \n",
    "  \n",
    "- **predict()**는 사이킷런 모델을 훈련하고 예측할 때 사용하는 메서드이다. 특성 데이터 하나만 매개변수로 받는다.  \n",
    "  \n",
    "- **score()**는 훈련된 사이킷런 모델의 성능을 측정한다. 처음 두 매개변수로 특성과 정답 데이터를 전달한다. 이 메서드는 먼저 predict() 메서드로 예측을 수행한 다음 분류 모델일 경우 정답과 비교하여 올바르게 예측한 개수의 비율을 반환한다."
   ]
  },
  {
   "cell_type": "code",
   "execution_count": 21,
   "id": "fa7db31d",
   "metadata": {},
   "outputs": [
    {
     "name": "stdout",
     "output_type": "stream",
     "text": [
      "18 0.9795918367346939\n"
     ]
    }
   ],
   "source": [
    "kn = KNeighborsClassifier()\n",
    "kn.fit(fish_data, fish_target)\n",
    "\n",
    "for n in range(5,50):\n",
    "    # k-최근접 이웃 개수 설정\n",
    "    kn.n_neighbors = n\n",
    "    # 점수 계산\n",
    "    score = kn.score(fish_data, fish_target)\n",
    "    #100% 정확도에 미치치 못하는 이웃 개수 출력\n",
    "    if score < 1:\n",
    "        print(n, score)\n",
    "        break"
   ]
  },
  {
   "cell_type": "markdown",
   "id": "c205cb2b",
   "metadata": {},
   "source": [
    "정확도 점수가 100% 이하로 내려가기 시작하는 이웃의 개수 구하기"
   ]
  },
  {
   "attachments": {
    "image-2.png": {
     "image/png": "[encoded data removed]"
    }
   },
   "cell_type": "markdown",
   "id": "2ffb3401",
   "metadata": {},
   "source": [
    "![image-2.png](attachment:image-2.png)"
   ]
  }
 ],
 "metadata": {
  "kernelspec": {
   "display_name": "Python 3 (ipykernel)",
   "language": "python",
   "name": "python3"
  },
  "language_info": {
   "codemirror_mode": {
    "name": "ipython",
    "version": 3
   },
   "file_extension": ".py",
   "mimetype": "text/x-python",
   "name": "python",
   "nbconvert_exporter": "python",
   "pygments_lexer": "ipython3",
   "version": "3.9.16"
  }
 },
 "nbformat": 4,
 "nbformat_minor": 5
}
