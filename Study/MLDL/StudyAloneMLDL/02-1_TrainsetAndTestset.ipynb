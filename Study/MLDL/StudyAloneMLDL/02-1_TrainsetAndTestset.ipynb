{
 "cells": [
  {
   "cell_type": "code",
   "execution_count": 1,
   "id": "6c20ac51",
   "metadata": {},
   "outputs": [],
   "source": [
    "fish_length = [25.4, 26.3, 26.5, 29.0, 29.0, 29.7, 29.7, 30.0, 30.0, 30.7, 31.0, 31.0, \n",
    "                31.5, 32.0, 32.0, 32.0, 33.0, 33.0, 33.5, 33.5, 34.0, 34.0, 34.5, 35.0, \n",
    "                35.0, 35.0, 35.0, 36.0, 36.0, 37.0, 38.5, 38.5, 39.5, 41.0, 41.0, 9.8, \n",
    "                10.5, 10.6, 11.0, 11.2, 11.3, 11.8, 11.8, 12.0, 12.2, 12.4, 13.0, 14.3, 15.0]\n",
    "fish_weight = [242.0, 290.0, 340.0, 363.0, 430.0, 450.0, 500.0, 390.0, 450.0, 500.0, 475.0, 500.0, \n",
    "                500.0, 340.0, 600.0, 600.0, 700.0, 700.0, 610.0, 650.0, 575.0, 685.0, 620.0, 680.0, \n",
    "                700.0, 725.0, 720.0, 714.0, 850.0, 1000.0, 920.0, 955.0, 925.0, 975.0, 950.0, 6.7, \n",
    "                7.5, 7.0, 9.7, 9.8, 8.7, 10.0, 9.9, 9.8, 12.2, 13.4, 12.2, 19.7, 19.9]"
   ]
  },
  {
   "cell_type": "markdown",
   "id": "47e208ba",
   "metadata": {},
   "source": [
    "총 49개의 샘플"
   ]
  },
  {
   "cell_type": "code",
   "execution_count": 3,
   "id": "79a0ddef",
   "metadata": {},
   "outputs": [],
   "source": [
    "fish_data = [[l,w] for l,w in zip(fish_length, fish_weight)]\n",
    "fish_target = [1]*35 + [0]*14"
   ]
  },
  {
   "cell_type": "markdown",
   "id": "29bb37f8",
   "metadata": {},
   "source": [
    "처음 35개를 훈련 세트로, 나머지 14개를 테스트 세트로 사용"
   ]
  },
  {
   "cell_type": "code",
   "execution_count": 5,
   "id": "826e0fdc",
   "metadata": {},
   "outputs": [],
   "source": [
    "from sklearn.neighbors import KNeighborsClassifier\n",
    "kn = KNeighborsClassifier()"
   ]
  },
  {
   "cell_type": "code",
   "execution_count": 6,
   "id": "dbc2ec7a",
   "metadata": {},
   "outputs": [
    {
     "name": "stdout",
     "output_type": "stream",
     "text": [
      "[29.0, 430.0]\n"
     ]
    }
   ],
   "source": [
    "print(fish_data[4])"
   ]
  },
  {
   "cell_type": "markdown",
   "id": "5ee8795e",
   "metadata": {},
   "source": [
    "5번째 샘플 출력해보기"
   ]
  },
  {
   "cell_type": "code",
   "execution_count": 7,
   "id": "f9c22707",
   "metadata": {},
   "outputs": [
    {
     "name": "stdout",
     "output_type": "stream",
     "text": [
      "[[25.4, 242.0], [26.3, 290.0], [26.5, 340.0], [29.0, 363.0], [29.0, 430.0]]\n"
     ]
    }
   ],
   "source": [
    "print(fish_data[0:5])"
   ]
  },
  {
   "cell_type": "markdown",
   "id": "451ecf09",
   "metadata": {},
   "source": [
    "슬라이싱 연산을 사용하여 원소의 범위를 지정하여 출력해보기  \n",
    "다만 마지막 인덱스의 원소는 포함되지 않는다 0~4까지의 5개의 원소를 선택하였기 때문에 실질적으로 인덱스 5인 여섯번째 원소는 선택되지 않음. 처음부터 시작되는 슬라이싱의 경우 0을 생략해 쓸 수 있다."
   ]
  },
  {
   "cell_type": "code",
   "execution_count": 9,
   "id": "93f98acb",
   "metadata": {},
   "outputs": [
    {
     "name": "stdout",
     "output_type": "stream",
     "text": [
      "[[25.4, 242.0], [26.3, 290.0], [26.5, 340.0], [29.0, 363.0], [29.0, 430.0]]\n"
     ]
    }
   ],
   "source": [
    "print(fish_data[:5])"
   ]
  },
  {
   "cell_type": "code",
   "execution_count": 10,
   "id": "19569def",
   "metadata": {},
   "outputs": [
    {
     "name": "stdout",
     "output_type": "stream",
     "text": [
      "[[12.2, 12.2], [12.4, 13.4], [13.0, 12.2], [14.3, 19.7], [15.0, 19.9]]\n"
     ]
    }
   ],
   "source": [
    "print(fish_data[44:])"
   ]
  },
  {
   "cell_type": "code",
   "execution_count": 11,
   "id": "69583fc0",
   "metadata": {},
   "outputs": [],
   "source": [
    "#훈련 세트로 입력값 중 0부터 34번째 인덱스까지 사용\n",
    "train_input = fish_data[:35]\n",
    "#훈련 세트로 타깃값 중 0부터 34번째 인덱스까지 사용\n",
    "train_target = fish_target[:35]\n",
    "#테스트 세트로 입력값 중 35번째부터 마지막 인덱스까지 사용\n",
    "test_input = fish_data[35:]\n",
    "#테스트 세트로 입력값 중 35번째부터 마지막 인덱스까지 사용\n",
    "test_target = fish_target[35:]"
   ]
  },
  {
   "cell_type": "code",
   "execution_count": 12,
   "id": "0bbec5af",
   "metadata": {},
   "outputs": [
    {
     "data": {
      "text/plain": [
       "0.0"
      ]
     },
     "execution_count": 12,
     "metadata": {},
     "output_type": "execute_result"
    }
   ],
   "source": [
    "kn = kn.fit(train_input, train_target)\n",
    "kn.score(test_input, test_target)"
   ]
  },
  {
   "cell_type": "markdown",
   "id": "58933a2d",
   "metadata": {},
   "source": [
    "당연히 훈련세트에 빙어가 하나도 존재하지 않아 해당 모델은 도미와 빙어를 분류할 수가 없다.\n",
    "샘플링이 한쪽으로 치우쳐져 있는 상태로 샘플링 편향이라고 한다."
   ]
  },
  {
   "cell_type": "markdown",
   "id": "ccd448ae",
   "metadata": {},
   "source": [
    "#### numpy를 이용하여 랜덤하게 훈련 샘플과 테스트 샘플을 선정해보자"
   ]
  },
  {
   "cell_type": "code",
   "execution_count": 13,
   "id": "69509f6b",
   "metadata": {},
   "outputs": [],
   "source": [
    "import numpy as np"
   ]
  },
  {
   "cell_type": "code",
   "execution_count": 15,
   "id": "7a8d0e1a",
   "metadata": {},
   "outputs": [],
   "source": [
    "input_arr = np.array(fish_data)\n",
    "target_arr = np.array(fish_target)"
   ]
  },
  {
   "cell_type": "code",
   "execution_count": 16,
   "id": "ef4e055f",
   "metadata": {},
   "outputs": [
    {
     "name": "stdout",
     "output_type": "stream",
     "text": [
      "[[  25.4  242. ]\n",
      " [  26.3  290. ]\n",
      " [  26.5  340. ]\n",
      " [  29.   363. ]\n",
      " [  29.   430. ]\n",
      " [  29.7  450. ]\n",
      " [  29.7  500. ]\n",
      " [  30.   390. ]\n",
      " [  30.   450. ]\n",
      " [  30.7  500. ]\n",
      " [  31.   475. ]\n",
      " [  31.   500. ]\n",
      " [  31.5  500. ]\n",
      " [  32.   340. ]\n",
      " [  32.   600. ]\n",
      " [  32.   600. ]\n",
      " [  33.   700. ]\n",
      " [  33.   700. ]\n",
      " [  33.5  610. ]\n",
      " [  33.5  650. ]\n",
      " [  34.   575. ]\n",
      " [  34.   685. ]\n",
      " [  34.5  620. ]\n",
      " [  35.   680. ]\n",
      " [  35.   700. ]\n",
      " [  35.   725. ]\n",
      " [  35.   720. ]\n",
      " [  36.   714. ]\n",
      " [  36.   850. ]\n",
      " [  37.  1000. ]\n",
      " [  38.5  920. ]\n",
      " [  38.5  955. ]\n",
      " [  39.5  925. ]\n",
      " [  41.   975. ]\n",
      " [  41.   950. ]\n",
      " [   9.8    6.7]\n",
      " [  10.5    7.5]\n",
      " [  10.6    7. ]\n",
      " [  11.     9.7]\n",
      " [  11.2    9.8]\n",
      " [  11.3    8.7]\n",
      " [  11.8   10. ]\n",
      " [  11.8    9.9]\n",
      " [  12.     9.8]\n",
      " [  12.2   12.2]\n",
      " [  12.4   13.4]\n",
      " [  13.    12.2]\n",
      " [  14.3   19.7]\n",
      " [  15.    19.9]]\n"
     ]
    }
   ],
   "source": [
    "print(input_arr)"
   ]
  },
  {
   "cell_type": "code",
   "execution_count": 18,
   "id": "2bbedcf1",
   "metadata": {},
   "outputs": [
    {
     "name": "stdout",
     "output_type": "stream",
     "text": [
      "(49, 2)\n"
     ]
    }
   ],
   "source": [
    "print(input_arr.shape) #이 명령을 사용하면 (샘플 수, 특성 수)를 출력."
   ]
  },
  {
   "cell_type": "markdown",
   "id": "ee2b938a",
   "metadata": {},
   "source": [
    "#### ※ 무작위로 샘플을 고르는 방법으로 진행.  \n",
    "#### 이때 주의할 점은 input_arr과 target_arr에서 같은 위치는 함께 선택되어야 한다는 점.  \n",
    "#### 타깃과 샘플이 함께 골라지지 않으면 올바르게 훈련이 될 수 없다."
   ]
  },
  {
   "cell_type": "markdown",
   "id": "fd1b169e",
   "metadata": {},
   "source": [
    "인덱스를 생성하여 섞은 다음 input_arr과 target_arr에서 샘플을 선택하면 무작위로 훈련 세트를 나누게 된다."
   ]
  },
  {
   "cell_type": "markdown",
   "id": "ce75854b",
   "metadata": {},
   "source": [
    "넘파이 arrange() 함수를 사용하면 0에서부터 48까지 1씩 증가하는 인덱스를 간단히 만들 수 있다. 그 다음 이 인덱스를 랜덤하게 섞는다."
   ]
  },
  {
   "cell_type": "code",
   "execution_count": 21,
   "id": "e15ecfc2",
   "metadata": {},
   "outputs": [],
   "source": [
    "np.random.seed(42)\n",
    "index = np.arange(49)\n",
    "np.random.shuffle(index)"
   ]
  },
  {
   "cell_type": "markdown",
   "id": "470cfdb1",
   "metadata": {},
   "source": [
    "넘파이 arange()함수에 정수N을 전달하면 0부터 N-1까지 1씩 증가하는 배열을 생성.  \n",
    "shuffle() 함수는 주어진 배열을 무작위로 섞는다."
   ]
  },
  {
   "cell_type": "code",
   "execution_count": 22,
   "id": "2ad6e83c",
   "metadata": {},
   "outputs": [
    {
     "name": "stdout",
     "output_type": "stream",
     "text": [
      "[13 45 47 44 17 27 26 25 31 19 12  4 34  8  3  6 40 41 46 15  9 16 24 33\n",
      " 30  0 43 32  5 29 11 36  1 21  2 37 35 23 39 10 22 18 48 20  7 42 14 28\n",
      " 38]\n"
     ]
    }
   ],
   "source": [
    "print(index)"
   ]
  },
  {
   "cell_type": "markdown",
   "id": "4d7d1fad",
   "metadata": {},
   "source": [
    "#### 넘파이는 슬라이싱 외에 배열 인덱싱이라는 기능을 제공. 여러 개의 인덱스로, 한 번에 여러 개의 원소를 선택할 수 있다."
   ]
  },
  {
   "cell_type": "code",
   "execution_count": 23,
   "id": "f82e1056",
   "metadata": {},
   "outputs": [
    {
     "name": "stdout",
     "output_type": "stream",
     "text": [
      "[[ 26.3 290. ]\n",
      " [ 29.  363. ]]\n"
     ]
    }
   ],
   "source": [
    "print(input_arr[[1,3]])"
   ]
  },
  {
   "cell_type": "markdown",
   "id": "7d4d92f0",
   "metadata": {},
   "source": [
    "두번째와 네번쨰 샘플 출력해보기"
   ]
  },
  {
   "cell_type": "markdown",
   "id": "7210266d",
   "metadata": {},
   "source": [
    "#### 앞서 만든 index 배열의 처음 35개를 input_arr와 target_arr에 전달하여 랜덤하게 35개의 샘플을 훈련 세트로 설정"
   ]
  },
  {
   "cell_type": "code",
   "execution_count": 24,
   "id": "bf447749",
   "metadata": {},
   "outputs": [],
   "source": [
    "train_input = input_arr[index[:35]]\n",
    "train_target = target_arr[index[:35]]"
   ]
  },
  {
   "cell_type": "code",
   "execution_count": 25,
   "id": "c44d5c0a",
   "metadata": {},
   "outputs": [
    {
     "name": "stdout",
     "output_type": "stream",
     "text": [
      "[ 32. 340.] [ 32. 340.]\n"
     ]
    }
   ],
   "source": [
    "print(input_arr[13], train_input[0])"
   ]
  },
  {
   "cell_type": "markdown",
   "id": "c744c9b4",
   "metadata": {},
   "source": [
    "만들어진 index의 첫번째 값은 13이고 따라서 train_input의 첫 번째 원소는 input_arr의 열네 번쨰 원소가 들어있다. 그러므로 같은 값이 나온다."
   ]
  },
  {
   "cell_type": "code",
   "execution_count": 26,
   "id": "6afb4274",
   "metadata": {},
   "outputs": [],
   "source": [
    "test_input = input_arr[index[35:]]\n",
    "test_target = target_arr[index[35:]]"
   ]
  },
  {
   "cell_type": "markdown",
   "id": "bde6444b",
   "metadata": {},
   "source": [
    "나머지 14개를 테스트 세트로 생성"
   ]
  },
  {
   "cell_type": "markdown",
   "id": "ad7825a3",
   "metadata": {},
   "source": [
    "#### 잘 섞었는지 산점도를 그려보자"
   ]
  },
  {
   "cell_type": "code",
   "execution_count": 27,
   "id": "a3c1fd3f",
   "metadata": {},
   "outputs": [
    {
     "data": {
      "image/png": "[encoded data removed]",
      "text/plain": [
       "<Figure size 432x288 with 1 Axes>"
      ]
     },
     "metadata": {
      "needs_background": "light"
     },
     "output_type": "display_data"
    }
   ],
   "source": [
    "import matplotlib.pyplot as plt\n",
    "plt.scatter(train_input[:,0], train_input[:,1]) # train input의 모든 값인데, 첫번째 열을 x축에 두번째 열을 y축에 할당.\n",
    "# 슬라이싱 연산자로 처음부터 마지막 원소까지 모두 선택하는 경우 시작과 종료 인덱스 모두 생략할 수 있다.\n",
    "plt.scatter(test_input[:,0], test_input[:,1])\n",
    "plt.xlabel('length')\n",
    "plt.ylabel('weight')\n",
    "plt.show()"
   ]
  },
  {
   "cell_type": "markdown",
   "id": "f098c5cb",
   "metadata": {},
   "source": [
    "파란색이 훈련 세트이고 주황색이 테스트 세트이다."
   ]
  },
  {
   "cell_type": "markdown",
   "id": "deceb0f7",
   "metadata": {},
   "source": [
    "#### 두 번째(제대로 된) 머신러닝 프로그램을 만들어보자"
   ]
  },
  {
   "cell_type": "code",
   "execution_count": 28,
   "id": "26f0ac5f",
   "metadata": {},
   "outputs": [],
   "source": [
    "kn = kn.fit(train_input, train_target)"
   ]
  },
  {
   "cell_type": "markdown",
   "id": "1d1b00d9",
   "metadata": {},
   "source": [
    "모델을 훈련"
   ]
  },
  {
   "cell_type": "code",
   "execution_count": 29,
   "id": "9cde0de0",
   "metadata": {},
   "outputs": [
    {
     "data": {
      "text/plain": [
       "1.0"
      ]
     },
     "execution_count": 29,
     "metadata": {},
     "output_type": "execute_result"
    }
   ],
   "source": [
    "kn.score(test_input, test_target)"
   ]
  },
  {
   "cell_type": "markdown",
   "id": "2042a137",
   "metadata": {},
   "source": [
    "테스트 세트에 있는 모든 생선을 맞힌 결과 도출"
   ]
  },
  {
   "cell_type": "code",
   "execution_count": 30,
   "id": "5f4f5189",
   "metadata": {},
   "outputs": [
    {
     "data": {
      "text/plain": [
       "array([0, 0, 1, 0, 1, 1, 1, 0, 1, 1, 0, 1, 1, 0])"
      ]
     },
     "execution_count": 30,
     "metadata": {},
     "output_type": "execute_result"
    }
   ],
   "source": [
    "kn.predict(test_input)"
   ]
  },
  {
   "cell_type": "code",
   "execution_count": 31,
   "id": "22b26a7b",
   "metadata": {},
   "outputs": [
    {
     "data": {
      "text/plain": [
       "array([0, 0, 1, 0, 1, 1, 1, 0, 1, 1, 0, 1, 1, 0])"
      ]
     },
     "execution_count": 31,
     "metadata": {},
     "output_type": "execute_result"
    }
   ],
   "source": [
    "test_target"
   ]
  },
  {
   "cell_type": "markdown",
   "id": "ae5adb03",
   "metadata": {},
   "source": [
    "테스트 인풋을 모델에 넣어 돌린 결과값과 실제 해당되는 샘플의 테스트 타겟값이 같음을 확인 가능."
   ]
  },
  {
   "cell_type": "markdown",
   "id": "364d0869",
   "metadata": {},
   "source": [
    "predict() 메서드의 출력 결과가 test_target의 출력과 동일하게 array()로 감싸 있는 것을 볼 수 있으며 이는 넘파이 배열임을 의미. predict() 메서드가 반환하는 값은 파이썬 리스트가 아닌 넘파이 배열이다.  \n",
    "사이킷런 모델의 입력과 출력은 모두 넘파이 배열이다."
   ]
  },
  {
   "cell_type": "markdown",
   "id": "0483d0f7",
   "metadata": {},
   "source": [
    "### 마무리  \n",
    "지도 학습 : 입력과 타깃을 전달하여 모델을 훈련한 다음 새로운 데이터를 예측하는데에 활용\n",
    "비지도 학습 : 타깃 데이터가 없으며 따라서 무엇을 예측하는 것이 아니라 입력 데이터에서 어떤 특징을 찾는데에 주로 이용\n",
    "훈련 세트 : 모델을 훈련할 때 사용하는 데이터\n",
    "테스트 세트 : 전체 데이터에서 20~30%를 테스트 세트로 사용하는 것을 권장. 전체 데이터가 아주 크다면 1%만 덜어내어 테스트 해도 충분할 수 있다."
   ]
  },
  {
   "cell_type": "markdown",
   "id": "553c6eea",
   "metadata": {},
   "source": [
    "### numpy  \n",
    "seed()는 넘파이에서 난수를 생성하기 위한 정수 초깃값을 지정. 초깃값이 같으면 동일한 난수를 뽑을 수 있다. 따라서 랜덤 함수의 결과를 동일하게 재현하고 싶을 때 사용한다.\n",
    "arnage()는 일정한 간격의 정수 또는 실수 배열을 생성. 기본 간격은 1이며 매개변수가 하나이면 종료 숫자를 의미한다. 0에서 종료 숫자까지 배열을 만드며 \n",
    "##### 종료 숫자는 배열에 미포함 된다."
   ]
  },
  {
   "cell_type": "code",
   "execution_count": 32,
   "id": "7f73bfac",
   "metadata": {},
   "outputs": [
    {
     "name": "stdout",
     "output_type": "stream",
     "text": [
      "[0 1 2]\n"
     ]
    }
   ],
   "source": [
    "print(np.arange(3))"
   ]
  },
  {
   "cell_type": "code",
   "execution_count": 33,
   "id": "7f948379",
   "metadata": {},
   "outputs": [
    {
     "name": "stdout",
     "output_type": "stream",
     "text": [
      "[1 2]\n"
     ]
    }
   ],
   "source": [
    "print(np.arange(1,3))"
   ]
  },
  {
   "cell_type": "raw",
   "id": "09d858cd",
   "metadata": {},
   "source": [
    "매개변수가 2개이면 시작 숫자, 종료 숫자를 의미"
   ]
  },
  {
   "cell_type": "code",
   "execution_count": 34,
   "id": "a730f705",
   "metadata": {},
   "outputs": [
    {
     "name": "stdout",
     "output_type": "stream",
     "text": [
      "[1.  1.2 1.4 1.6 1.8 2.  2.2 2.4 2.6 2.8]\n"
     ]
    }
   ],
   "source": [
    "print(np.arange(1,3,0.2))"
   ]
  },
  {
   "cell_type": "markdown",
   "id": "908fcf03",
   "metadata": {},
   "source": [
    "매개변수가 3개이면 마지막 매개변수가 간격을 나타낸다"
   ]
  },
  {
   "cell_type": "code",
   "execution_count": 35,
   "id": "19f81baa",
   "metadata": {},
   "outputs": [
    {
     "name": "stdout",
     "output_type": "stream",
     "text": [
      "[[5 6]\n",
      " [1 2]\n",
      " [3 4]]\n"
     ]
    }
   ],
   "source": [
    "arr = np.array([[1,2], [3,4], [5,6]])\n",
    "np.random.shuffle(arr)\n",
    "print(arr)"
   ]
  },
  {
   "cell_type": "markdown",
   "id": "f6703e4b",
   "metadata": {},
   "source": [
    "shuffle()은 주어진 배열을 랜덤하게 섞는다. 다차원 배열일 경우 첫 번째 축(행)에 대해서만 섞는다."
   ]
  }
 ],
 "metadata": {
  "kernelspec": {
   "display_name": "Python 3 (ipykernel)",
   "language": "python",
   "name": "python3"
  },
  "language_info": {
   "codemirror_mode": {
    "name": "ipython",
    "version": 3
   },
   "file_extension": ".py",
   "mimetype": "text/x-python",
   "name": "python",
   "nbconvert_exporter": "python",
   "pygments_lexer": "ipython3",
   "version": "3.9.12"
  }
 },
 "nbformat": 4,
 "nbformat_minor": 5
}
