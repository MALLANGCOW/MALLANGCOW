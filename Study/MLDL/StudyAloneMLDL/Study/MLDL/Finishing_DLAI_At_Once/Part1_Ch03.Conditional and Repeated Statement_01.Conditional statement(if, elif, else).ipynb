{
 "cells": [
  {
   "cell_type": "markdown",
   "id": "45398dd6",
   "metadata": {},
   "source": [
    "## 학습목표\n",
    "- 조건문의 이해 및 활용"
   ]
  },
  {
   "cell_type": "markdown",
   "id": "2207244d",
   "metadata": {},
   "source": [
    "### condition(조건문)\n",
    "- 특정 조건을 만족하는 경우에만 수행할 작업이 있는 경우 사용\n",
    "- 모든 조건은 boolean으로 표현 됨(예외 사항은 아래 배울 예정)\n",
    "- if, elif, else 키워드가 사용\n",
    "- 조건문의 경우 if, elif, else 블록에 종속된 코드는 들여쓰기로 표현 가능\n",
    "- 즉 아래코드에서와 같이, 조건문 아래에 들여쓰기된 2줄의 코드만이 조건문의 조건에 따라 수행될 수도, 수행되지 않을 수도 있는 코드라고 할 수 있음\n",
    "- 들여쓰기 된 코드를 블록(block), 또는 코드블록이라고 함\n",
    "- python에서 모든 블록의 시작점의 마지막에는 :(콜론, colon) 추가가 필요\n",
    "\n",
    "```python\n",
    "if 6 >= 5 :\n",
    "    print('6 is greater than 5')\n",
    "    print('Yeah, it is true')\n",
    "print('This code is not belongs to if statements')\n",
    "```"
   ]
  },
  {
   "cell_type": "code",
   "execution_count": 2,
   "id": "a5b8bec4",
   "metadata": {},
   "outputs": [
    {
     "name": "stdout",
     "output_type": "stream",
     "text": [
      "6 is greater than 5\n",
      "Yeah, it is true\n",
      "This code is not belongs to if statements\n"
     ]
    }
   ],
   "source": [
    "if 6 >= 5 :\n",
    "    print('6 is greater than 5')\n",
    "    print('Yeah, it is true')\n",
    "print('This code is not belongs to if statements')"
   ]
  },
  {
   "cell_type": "code",
   "execution_count": 3,
   "id": "6656e9d3",
   "metadata": {},
   "outputs": [
    {
     "name": "stdout",
     "output_type": "stream",
     "text": [
      "This code is not belongs to if statements\n"
     ]
    }
   ],
   "source": [
    "if 6 == 5 :\n",
    "    print('6 is greater than 5')\n",
    "    print('Yeah, it is true')\n",
    "print('This code is not belongs to if statements')"
   ]
  },
  {
   "cell_type": "markdown",
   "id": "1558df30",
   "metadata": {},
   "source": [
    "- Logical AND, OR, NOT\n",
    "    - 조건문에 사용되는 조건의 경우, boolean이기 때문에, 논리식 AND, OR, NOT 이 사용가능\n",
    "- 논리표\n",
    "    - AND\n",
    "        - T AND T : T\n",
    "        - T AND F : F\n",
    "        - F AND T : F\n",
    "        - F AND F : F\n",
    "    - OR\n",
    "        - T OR T : T\n",
    "        - T OR F : T\n",
    "        - F OR T : T\n",
    "        - F OR F : F\n",
    "    - NOT\n",
    "        - NOT T : F\n",
    "        - NOT F : T\n",
    "- 우선순위\n",
    "    - NOT > AND > OR"
   ]
  },
  {
   "cell_type": "code",
   "execution_count": 4,
   "id": "6fc559bc",
   "metadata": {},
   "outputs": [],
   "source": [
    "a = 10\n",
    "b = 8\n",
    "c = 11"
   ]
  },
  {
   "cell_type": "code",
   "execution_count": 8,
   "id": "1d543994",
   "metadata": {},
   "outputs": [
    {
     "name": "stdout",
     "output_type": "stream",
     "text": [
      "that is true\n"
     ]
    }
   ],
   "source": [
    "if a == 10 and b == 9 :\n",
    "    print('that is true')\n",
    "if a == 10 and b == 8 :\n",
    "    print('that is true')"
   ]
  },
  {
   "cell_type": "code",
   "execution_count": 14,
   "id": "7cd7b9f6",
   "metadata": {},
   "outputs": [
    {
     "name": "stdout",
     "output_type": "stream",
     "text": [
      "that is true\n"
     ]
    }
   ],
   "source": [
    "if a == 10 or b == 9 and c == 12 : # b == 9 false, c == 12 false 둘을 and 하면 false, 이것과 a == 10 true와 or 이므로\n",
    "                                    # 코드블록이 출력된다.\n",
    "    print('that is true')"
   ]
  },
  {
   "cell_type": "code",
   "execution_count": 16,
   "id": "0daaa7d6",
   "metadata": {},
   "outputs": [],
   "source": [
    "if (a == 10 or b == 9) and c == 12 : # true와 false를 and 하므로 false가 되어 코드블록이 출력되지 않는다.\n",
    "    print('that is true')"
   ]
  },
  {
   "cell_type": "code",
   "execution_count": 13,
   "id": "1b849492",
   "metadata": {},
   "outputs": [
    {
     "name": "stdout",
     "output_type": "stream",
     "text": [
      "a is ten\n"
     ]
    }
   ],
   "source": [
    "if not a != 10 : # false를 not 하여 true로 만들었기 때문에 코드블록이 출력된다.\n",
    "    print('a is ten')"
   ]
  },
  {
   "cell_type": "markdown",
   "id": "2cdfa5c3",
   "metadata": {},
   "source": [
    "#### if의 조건이 bool이 아닌 경우\n",
    "- 일반적으로는 조건문에는 bool이 주로 위치 함\n",
    "- 하지만 정수, 실수, 문자열 리스트 등 기본 타입도 조건에 사용 가능\n",
    "- False로 간주되는 값(각 타입의 기본값)\n",
    "    - None\n",
    "    - 0\n",
    "    - 0.0\n",
    "    - ''\n",
    "    - [] -> 빈 리스트\n",
    "    - () -> 빈 튜플\n",
    "    - {} -> 빈 딕셔너리\n",
    "    - set() -> 빈 집합\n",
    "- 그 밖에는 모두 True로 간주"
   ]
  },
  {
   "cell_type": "code",
   "execution_count": 17,
   "id": "80f2a62d",
   "metadata": {},
   "outputs": [
    {
     "name": "stdout",
     "output_type": "stream",
     "text": [
      "3 33333\n"
     ]
    }
   ],
   "source": [
    "if 3.5 : \n",
    "    print('3 33333')"
   ]
  },
  {
   "cell_type": "code",
   "execution_count": 18,
   "id": "8af093f9",
   "metadata": {},
   "outputs": [
    {
     "name": "stdout",
     "output_type": "stream",
     "text": [
      "print\n"
     ]
    }
   ],
   "source": [
    "a = [1, 2, 3]\n",
    "b = []\n",
    "if a :\n",
    "    print('print')\n",
    "if b :\n",
    "    print('pprriinntt')"
   ]
  },
  {
   "cell_type": "markdown",
   "id": "138ac515",
   "metadata": {},
   "source": [
    "#### if, else\n",
    "- if가 아닌 경우, 나머지 조건을 표현하고 싶다면 바로 아래 else 블록 사용\n",
    "- 이 경우, if 조건이 True인 경우, if 블록의 코드가 수행, 거짓인 경우 else 블록의 코드가 수행\n",
    "- 주의할 점 : if와 else 사이에 다른 코드 삽입 불가"
   ]
  },
  {
   "cell_type": "code",
   "execution_count": 26,
   "id": "d8ff4865",
   "metadata": {},
   "outputs": [
    {
     "name": "stdout",
     "output_type": "stream",
     "text": [
      "5.0\n",
      "12\n"
     ]
    }
   ],
   "source": [
    "# 짝수인 경우에는 2로 나눈 값을 출력하고\n",
    "# 홀수인 경우에는 1을 더한 값을 출력해라\n",
    "\n",
    "a = 10 \n",
    "if a % 2 == 0 : # 짝수인지 판별\n",
    "    print(a / 2)\n",
    "else : \n",
    "    print(a + 1)\n",
    "    \n",
    "a = 11\n",
    "if a % 2 == 0 : # 짝수인지 판별\n",
    "    print(a / 2)\n",
    "else : \n",
    "    print(a + 1)"
   ]
  },
  {
   "cell_type": "code",
   "execution_count": 29,
   "id": "9af32795",
   "metadata": {},
   "outputs": [
    {
     "ename": "SyntaxError",
     "evalue": "invalid syntax (486582766.py, line 6)",
     "output_type": "error",
     "traceback": [
      "\u001b[1;36m  Input \u001b[1;32mIn [29]\u001b[1;36m\u001b[0m\n\u001b[1;33m    else :\u001b[0m\n\u001b[1;37m    ^\u001b[0m\n\u001b[1;31mSyntaxError\u001b[0m\u001b[1;31m:\u001b[0m invalid syntax\n"
     ]
    }
   ],
   "source": [
    "# if와 else 사이에는 다른 코드가 삽입 불가\n",
    "a = 10 \n",
    "if a % 2 == 0 : # 짝수인지 판별\n",
    "    print(a / 2)\n",
    "print('hahaha')\n",
    "else : \n",
    "    print(a + 1)"
   ]
  },
  {
   "cell_type": "markdown",
   "id": "f1143fac",
   "metadata": {},
   "source": [
    "#### if, elif, else\n",
    "- 조건이 여러개인 경우, 다음 조건을 elif 블록에 명시 가능\n",
    "- 이 경우, 각 조건을 확인 후, True인 조건의 코드 블락을 실행한 후, 전체 if, elif, else 구문을 종료\n",
    "- 조건문을 사용할 때는, if 이후, 0개 이상의 elif를 사용 가능하며 0개 또는 1개의 else를 사용 가능함\n",
    "\n",
    "```python\n",
    "a = 17\n",
    "if a % 4 == 0 :\n",
    "    print('a is divisible by 4')\n",
    "elif a % 4 == 1 :\n",
    "    print('a % 4 is 1')\n",
    "elif a % 4 == 2 :\n",
    "    print('a % 4 is 2')\n",
    "else :\n",
    "    print('a % 4 is 3')\n",
    "```"
   ]
  },
  {
   "cell_type": "code",
   "execution_count": 30,
   "id": "5fffc741",
   "metadata": {},
   "outputs": [
    {
     "name": "stdout",
     "output_type": "stream",
     "text": [
      "a % 4 is 1\n"
     ]
    }
   ],
   "source": [
    "a = 17\n",
    "if a % 4 == 0 :\n",
    "    print('a is divisible by 4')\n",
    "elif a % 4 == 1 :\n",
    "    print('a % 4 is 1')\n",
    "elif a % 4 == 2 :\n",
    "    print('a % 4 is 2')\n",
    "else :\n",
    "    print('a % 4 is 3')"
   ]
  },
  {
   "cell_type": "code",
   "execution_count": 33,
   "id": "87e9abb1",
   "metadata": {},
   "outputs": [
    {
     "name": "stdout",
     "output_type": "stream",
     "text": [
      "a % 4 is 1\n",
      "a % 4 is 3\n"
     ]
    }
   ],
   "source": [
    "a = 17 # elif를 안쓰고 if를 쓰면 매 if를 모두 수행한다.\n",
    "if a % 4 == 0 :\n",
    "    print('a is divisible by 4')\n",
    "if a % 4 == 1 :\n",
    "    print('a % 4 is 1')\n",
    "if a % 4 == 2 :\n",
    "    print('a % 4 is 2')\n",
    "else : # 위의 if문이 false였으므로 else 코드블록이 수행된다.\n",
    "    print('a % 4 is 3')"
   ]
  },
  {
   "cell_type": "markdown",
   "id": "062fe313",
   "metadata": {},
   "source": [
    "#### 중첩 조건문(nested condition)\n",
    "- 조건문의 경우 중첩하여 작성 가능\n",
    "- 중첩의 의미는 depth(깊이)로 생각할 수 있으며, depth의 제한은 없음"
   ]
  },
  {
   "cell_type": "code",
   "execution_count": 37,
   "id": "634136f4",
   "metadata": {},
   "outputs": [
    {
     "name": "stdout",
     "output_type": "stream",
     "text": [
      "a is ten and b is not 8\n"
     ]
    }
   ],
   "source": [
    "a = 10\n",
    "b = 9\n",
    "c = 8\n",
    "\n",
    "if a == 10 :\n",
    "    if c == 8 : \n",
    "        if b == 8 :\n",
    "            print('a is ten and b is 8')\n",
    "        else : \n",
    "            print('a is ten and b is not 8')"
   ]
  }
 ],
 "metadata": {
  "kernelspec": {
   "display_name": "Python 3 (ipykernel)",
   "language": "python",
   "name": "python3"
  },
  "language_info": {
   "codemirror_mode": {
    "name": "ipython",
    "version": 3
   },
   "file_extension": ".py",
   "mimetype": "text/x-python",
   "name": "python",
   "nbconvert_exporter": "python",
   "pygments_lexer": "ipython3",
   "version": "3.9.12"
  }
 },
 "nbformat": 4,
 "nbformat_minor": 5
}
