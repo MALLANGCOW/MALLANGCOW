{
 "cells": [
  {
   "cell_type": "markdown",
   "id": "e8b8c11f",
   "metadata": {},
   "source": [
    "### dictionary\n",
    "- 키와 값을 갖는 데이터 구조\n",
    "- 키는 내부적으로 hash값으로 저장\n",
    "- 순서를 따지지 않음. 즉, 인덱스가 없음"
   ]
  },
  {
   "cell_type": "code",
   "execution_count": 2,
   "id": "46f4b17e",
   "metadata": {},
   "outputs": [
    {
     "name": "stdout",
     "output_type": "stream",
     "text": [
      "0\n",
      "4\n",
      "{'Korea': 'Seoul', 'Canada': 'Ottawa', 'USA': 'Washington D.C'}\n"
     ]
    },
    {
     "ename": "KeyError",
     "evalue": "0",
     "output_type": "error",
     "traceback": [
      "\u001b[1;31m---------------------------------------------------------------------------\u001b[0m",
      "\u001b[1;31mKeyError\u001b[0m                                  Traceback (most recent call last)",
      "Input \u001b[1;32mIn [2]\u001b[0m, in \u001b[0;36m<cell line: 13>\u001b[1;34m()\u001b[0m\n\u001b[0;32m      8\u001b[0m a \u001b[38;5;241m=\u001b[39m {\u001b[38;5;124m'\u001b[39m\u001b[38;5;124mKorea\u001b[39m\u001b[38;5;124m'\u001b[39m: \u001b[38;5;124m'\u001b[39m\u001b[38;5;124mSeoul\u001b[39m\u001b[38;5;124m'\u001b[39m, \n\u001b[0;32m      9\u001b[0m      \u001b[38;5;124m'\u001b[39m\u001b[38;5;124mCanada\u001b[39m\u001b[38;5;124m'\u001b[39m: \u001b[38;5;124m'\u001b[39m\u001b[38;5;124mOttawa\u001b[39m\u001b[38;5;124m'\u001b[39m, \n\u001b[0;32m     10\u001b[0m      \u001b[38;5;124m'\u001b[39m\u001b[38;5;124mUSA\u001b[39m\u001b[38;5;124m'\u001b[39m: \u001b[38;5;124m'\u001b[39m\u001b[38;5;124mWashington D.C\u001b[39m\u001b[38;5;124m'\u001b[39m} \u001b[38;5;66;03m# dictionary는 중괄호를 사용한다. 앞에는 key, 뒤에는 value, 서로 대응은 : 를 사용한다.\u001b[39;00m\n\u001b[0;32m     12\u001b[0m \u001b[38;5;28mprint\u001b[39m(a)\n\u001b[1;32m---> 13\u001b[0m \u001b[38;5;28mprint\u001b[39m(\u001b[43ma\u001b[49m\u001b[43m[\u001b[49m\u001b[38;5;241;43m0\u001b[39;49m\u001b[43m]\u001b[49m)\n",
      "\u001b[1;31mKeyError\u001b[0m: 0"
     ]
    }
   ],
   "source": [
    "a = [0, 1, 2, 3, 4]\n",
    "print(a[0])\n",
    "print(a[4])\n",
    "\n",
    "# 리스트의 인덱스를 알고 있으면, 어떤 인덱스라도 그 인덱스의 원소에 접근하는데에 걸리는 속도가 거의 0이다.\n",
    "# 즉, 리스트의 길이와 관계가 없다. 해당 인덱스로 바로 접근한다.\n",
    "\n",
    "a = {'Korea': 'Seoul', \n",
    "     'Canada': 'Ottawa', \n",
    "     'USA': 'Washington D.C'} # dictionary는 중괄호를 사용한다. 앞에는 key, 뒤에는 value, 서로 대응은 : 를 사용한다.\n",
    "\n",
    "print(a)\n",
    "print(a[0]) # 에러가 난다. 순서가 없기 때문"
   ]
  },
  {
   "cell_type": "code",
   "execution_count": null,
   "id": "6d29b894",
   "metadata": {},
   "outputs": [],
   "source": [
    "a = {'Korea': 'Seoul', \n",
    "     'Canada': 'Ottawa', \n",
    "     'USA': 'Washington D.C'}\n",
    "\n",
    "b = {0:1, 1:6, 7:9, 8:10}\n",
    "\n",
    "print(type(a))\n",
    "print(a['Korea']) # key로 value를 가져올 수 있다.\n",
    "\n",
    "print(b[0]) # key를 통해 value인 1을 불러온다.\n",
    "print(b[2]) # 에러가 난다. key값으로 2가 없기 때문"
   ]
  },
  {
   "cell_type": "markdown",
   "id": "7fc7a2aa",
   "metadata": {},
   "source": [
    "- 항목 추가 및 변경\n",
    "     - 기존에 키가 존재 하면, 새로운 값으로 업데이트\n",
    "     - 존재하지 않으면, 새로운 키, 값 생성"
   ]
  },
  {
   "cell_type": "code",
   "execution_count": 4,
   "id": "7b295744",
   "metadata": {},
   "outputs": [
    {
     "name": "stdout",
     "output_type": "stream",
     "text": [
      "{'Korea': 'Seoul', 'Canada': 'Ottawa', 'USA': 'Washington D.C', 'Japan': 'Tokyo', 'China': 'Beijing'}\n",
      "{'Korea': 'Seoul', 'Canada': 'Ottawa', 'USA': 'Washington D.C', 'Japan': 'Kyoto', 'China': 'Beijing'}\n"
     ]
    }
   ],
   "source": [
    "a = {'Korea': 'Seoul', \n",
    "     'Canada': 'Ottawa', \n",
    "     'USA': 'Washington D.C'}\n",
    "\n",
    "a['Japan'] = 'Tokyo'\n",
    "a['China'] = 'Beijing'\n",
    "\n",
    "print(a)\n",
    "\n",
    "a['Japan'] = 'Kyoto' # 기존에 있던 key는 새로운 value 값에 의해 덮어씌워진다. 똑같은 key 값으로 추가가 불가능\n",
    "print(a)"
   ]
  },
  {
   "cell_type": "markdown",
   "id": "2848cd39",
   "metadata": {},
   "source": [
    "- update()\n",
    "    - 두 딕셔너리를 병합함\n",
    "    - 겹치는 키가 있다면 parameter로 전달되는 키 값이 overwrite된다."
   ]
  },
  {
   "cell_type": "code",
   "execution_count": 3,
   "id": "ff08bf49",
   "metadata": {},
   "outputs": [
    {
     "name": "stdout",
     "output_type": "stream",
     "text": [
      "{'a': 2, 'b': 2, 'c': 3, 'd': 4, 'e': 5}\n"
     ]
    }
   ],
   "source": [
    "a = {'a' : 1, 'b' : 2, 'c' : 3}\n",
    "b = {'a' : 2, 'd' : 4, 'e' : 5}\n",
    "a.update(b)\n",
    "print(a)"
   ]
  },
  {
   "cell_type": "markdown",
   "id": "71a68b4b",
   "metadata": {},
   "source": [
    "- key 삭제\n",
    "    - del 키워드 사용\n",
    "    - pop 함수 이용"
   ]
  },
  {
   "cell_type": "code",
   "execution_count": 16,
   "id": "4f2884cb",
   "metadata": {
    "scrolled": true
   },
   "outputs": [
    {
     "name": "stdout",
     "output_type": "stream",
     "text": [
      "{'a': 1, 'b': 2, 'c': 3}\n",
      "{'a': 1, 'c': 3}\n",
      "{'a': 1}\n"
     ]
    }
   ],
   "source": [
    "a = {'a' : 1, 'b' : 2, 'c' : 3}\n",
    "print(a)\n",
    "\n",
    "a.pop('b')\n",
    "print(a)\n",
    "\n",
    "del a['c']\n",
    "print(a)"
   ]
  },
  {
   "cell_type": "code",
   "execution_count": 11,
   "id": "f3fd447a",
   "metadata": {},
   "outputs": [
    {
     "name": "stdout",
     "output_type": "stream",
     "text": [
      "100\n"
     ]
    },
    {
     "ename": "NameError",
     "evalue": "name 'c' is not defined",
     "output_type": "error",
     "traceback": [
      "\u001b[1;31m---------------------------------------------------------------------------\u001b[0m",
      "\u001b[1;31mNameError\u001b[0m                                 Traceback (most recent call last)",
      "Input \u001b[1;32mIn [11]\u001b[0m, in \u001b[0;36m<cell line: 4>\u001b[1;34m()\u001b[0m\n\u001b[0;32m      2\u001b[0m \u001b[38;5;28mprint\u001b[39m(c)\n\u001b[0;32m      3\u001b[0m \u001b[38;5;28;01mdel\u001b[39;00m(c)\n\u001b[1;32m----> 4\u001b[0m \u001b[38;5;28mprint\u001b[39m(\u001b[43mc\u001b[49m)\n",
      "\u001b[1;31mNameError\u001b[0m: name 'c' is not defined"
     ]
    }
   ],
   "source": [
    "c = 100 # del 함수는 범용적이다.\n",
    "print(c)\n",
    "del(c)\n",
    "print(c)"
   ]
  },
  {
   "cell_type": "markdown",
   "id": "f07c4782",
   "metadata": {},
   "source": [
    "- clear()\n",
    "    - 딕셔너리의 모든 값을 초기화"
   ]
  },
  {
   "cell_type": "code",
   "execution_count": 18,
   "id": "a84f1794",
   "metadata": {
    "scrolled": true
   },
   "outputs": [
    {
     "name": "stdout",
     "output_type": "stream",
     "text": [
      "{'a': 1}\n",
      "{}\n"
     ]
    }
   ],
   "source": [
    "print(a)\n",
    "a.clear()\n",
    "print(a)"
   ]
  },
  {
   "cell_type": "markdown",
   "id": "0c04fdfd",
   "metadata": {},
   "source": [
    "- in\n",
    "    - key값 존재 확인\n",
    "    - O(1) 연산 - 딕셔너리의 크기와 관계없이 항상 연산의 속도가 일정하다는 의미"
   ]
  },
  {
   "cell_type": "code",
   "execution_count": 22,
   "id": "178db99e",
   "metadata": {},
   "outputs": [
    {
     "name": "stdout",
     "output_type": "stream",
     "text": [
      "{'a': 1, 'b': 2, 'c': 3}\n",
      "True\n",
      "False\n"
     ]
    }
   ],
   "source": [
    "a = {'a' : 1, 'b' : 2, 'c' : 3}\n",
    "print(a)\n",
    "\n",
    "print('b' in a)\n",
    "print('d' in a)"
   ]
  },
  {
   "cell_type": "code",
   "execution_count": 24,
   "id": "0c30a5a0",
   "metadata": {},
   "outputs": [
    {
     "name": "stdout",
     "output_type": "stream",
     "text": [
      "{'a': 1, 'b': 2, 'c': 3}\n",
      "True\n",
      "True\n"
     ]
    }
   ],
   "source": [
    "a = {'a' : 1, 'b' : 2, 'c' : 3}\n",
    "print(a)\n",
    "b = [1, 2, 3, 4, 5, 6, 7, 8, 9, 10, 100]\n",
    "print(100 in b)\n",
    "print('b' in a)\n",
    "\n",
    "# 리스트는 일일히 원소가 들어가 있는지 순차적으로 확인하기 때문에 원소가 많은 경우 성능저하가 일어날 수 있지만\n",
    "# dict에서는 키값을 바로 찾아가기 때문에 원소가 아무리 많아도 성능저하가 없다."
   ]
  },
  {
   "cell_type": "markdown",
   "id": "34aaaf83",
   "metadata": {},
   "source": [
    "- value access\n",
    "    - dict[key]로 접근, 키가 없는 경우 에러 발생\n",
    "    - .get() 함수로 접근, 키가 없는 경우 None 반환"
   ]
  },
  {
   "cell_type": "code",
   "execution_count": 31,
   "id": "f600c2cf",
   "metadata": {},
   "outputs": [
    {
     "name": "stdout",
     "output_type": "stream",
     "text": [
      "2\n",
      "2\n",
      "None\n"
     ]
    }
   ],
   "source": [
    "print(a['b'])\n",
    "print(a.get('b'))\n",
    "# print(a['d'])  키가 없는 경우 에러 발생\n",
    "print(a.get('d')) # 키가 없는 경우 None 반환"
   ]
  },
  {
   "cell_type": "markdown",
   "id": "d2e4b253",
   "metadata": {},
   "source": [
    "#### 모든 keys, values 접근\n",
    "- keys() - 키만 반환\n",
    "- values() - 값만 반환\n",
    "- items() - 키, 값의 튜플을 반환"
   ]
  },
  {
   "cell_type": "code",
   "execution_count": 38,
   "id": "a89303bd",
   "metadata": {},
   "outputs": [
    {
     "name": "stdout",
     "output_type": "stream",
     "text": [
      "{'a': 1, 'b': 2, 'c': 3}\n",
      "dict_keys(['a', 'b', 'c'])\n",
      "dict_values([1, 2, 3])\n",
      "['a', 'b', 'c']\n",
      "[1, 2, 3]\n"
     ]
    },
    {
     "data": {
      "text/plain": [
       "[('a', 1), ('b', 2), ('c', 3)]"
      ]
     },
     "execution_count": 38,
     "metadata": {},
     "output_type": "execute_result"
    }
   ],
   "source": [
    "print(a)\n",
    "print(a.keys())\n",
    "print(a.values())\n",
    "print(list(a.keys()))\n",
    "print(list(a.values()))\n",
    "\n",
    "list(a.items())"
   ]
  }
 ],
 "metadata": {
  "kernelspec": {
   "display_name": "Python 3 (ipykernel)",
   "language": "python",
   "name": "python3"
  },
  "language_info": {
   "codemirror_mode": {
    "name": "ipython",
    "version": 3
   },
   "file_extension": ".py",
   "mimetype": "text/x-python",
   "name": "python",
   "nbconvert_exporter": "python",
   "pygments_lexer": "ipython3",
   "version": "3.9.12"
  }
 },
 "nbformat": 4,
 "nbformat_minor": 5
}
