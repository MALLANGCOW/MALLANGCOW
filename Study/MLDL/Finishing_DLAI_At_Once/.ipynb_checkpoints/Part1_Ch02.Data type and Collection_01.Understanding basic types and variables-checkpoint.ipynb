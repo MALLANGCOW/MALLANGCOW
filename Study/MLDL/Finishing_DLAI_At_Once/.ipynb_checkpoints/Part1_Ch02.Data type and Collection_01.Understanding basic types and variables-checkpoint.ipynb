{
 "cells": [
  {
   "attachments": {
    "image.png": {
     "image/png": "[encoded data removed]"
    }
   },
   "cell_type": "markdown",
   "id": "314092cc",
   "metadata": {},
   "source": [
    "## 변수(variable) 이해하기  \n",
    "\n",
    "- 데이터를 저장하는 공간, 변수\n",
    "- 저장공간(memory)에 값을 생성하고 이름(name)을 지정\n",
    "- =(대입연산자)를 사용하여 왼쪽은 변수명, 오른쪽은 데이터가 위치  \n",
    "![image.png](attachment:image.png)"
   ]
  },
  {
   "cell_type": "markdown",
   "id": "27b985de",
   "metadata": {},
   "source": [
    "### =대입연산자, ==비교연산자  \n",
    "- 대입의 경우, 오른쪽의 수식이나 값을 evaluation(여기에서는 계산이라는 의미로 사용)한 뒤,\n",
    "- 왼쪽에 명시된 변수에 해당 값을 대입\n",
    "- 변수는 해당 값을 가지게 됨"
   ]
  },
  {
   "cell_type": "code",
   "execution_count": 14,
   "id": "567c0848",
   "metadata": {},
   "outputs": [],
   "source": [
    "a = 10 # int  \n",
    "b = 11.4 # float"
   ]
  },
  {
   "cell_type": "markdown",
   "id": "98c78910",
   "metadata": {},
   "source": [
    "### comment(주석)\n",
    "- 코드에서 #으로 시작하는 뒷 부분은 실행되지 않음\n",
    "- python이 소스코드를 실행하면서 #을 만나면 무시\n",
    "- 개발자(사람)가 보기 위한 용도로 사용"
   ]
  },
  {
   "cell_type": "code",
   "execution_count": 15,
   "id": "99f75f86",
   "metadata": {},
   "outputs": [],
   "source": [
    "# this line is very important\n",
    "# so don't delete those line  \n",
    "a = 10\n",
    "b = 11.4"
   ]
  },
  {
   "cell_type": "markdown",
   "id": "c33ee249",
   "metadata": {},
   "source": [
    "### print 함수\n",
    "- 함수란 특정 기능을 반복적으로 호출하여 사용가능한 코드블럭\n",
    "- 해당 변수의 값을 출력\n",
    "- ,로 여러 변수를 나열하면 한 줄에 출력\n",
    "- 기본적으로는 한 칸 띄어쓰기 후 출력"
   ]
  },
  {
   "cell_type": "code",
   "execution_count": 16,
   "id": "8a04741e",
   "metadata": {},
   "outputs": [
    {
     "name": "stdout",
     "output_type": "stream",
     "text": [
      "10 11.4\n",
      "10 10 200 11.4\n"
     ]
    }
   ],
   "source": [
    "print(a,b)\n",
    "print(a, 10, 200, b)"
   ]
  },
  {
   "cell_type": "markdown",
   "id": "48067173",
   "metadata": {},
   "source": [
    "#### print 함수 설정\n",
    " - sep : 구분자, 각 출력할 변수 사이에서 구별하는 역할을 함\n",
    " - end : 마지막에 출력할 문자열  \n",
    " \n",
    "함수에다가 shift+tab을 누르면 함수 설명이 나온다"
   ]
  },
  {
   "cell_type": "code",
   "execution_count": 17,
   "id": "ee97e83f",
   "metadata": {},
   "outputs": [
    {
     "name": "stdout",
     "output_type": "stream",
     "text": [
      "10*11.4*10*100!!"
     ]
    }
   ],
   "source": [
    "print(a,b,10,100, sep='*', end='!!')"
   ]
  },
  {
   "cell_type": "markdown",
   "id": "4d786b5f",
   "metadata": {},
   "source": [
    "### 변수 값 확인법\n",
    "- print() 함수 사용\n",
    "- 변수 값을 코드의 마지막에 위치 시킨 후 실행\n",
    "    - 이 경우 output으로 변수의 값이 출력"
   ]
  },
  {
   "cell_type": "code",
   "execution_count": 18,
   "id": "d506a034",
   "metadata": {},
   "outputs": [
    {
     "name": "stdout",
     "output_type": "stream",
     "text": [
      "10 11.4\n"
     ]
    },
    {
     "data": {
      "text/plain": [
       "11.4"
      ]
     },
     "execution_count": 18,
     "metadata": {},
     "output_type": "execute_result"
    }
   ],
   "source": [
    "print(a,b)\n",
    "a\n",
    "b"
   ]
  },
  {
   "cell_type": "markdown",
   "id": "e286dce0",
   "metadata": {},
   "source": [
    "### variable naming(변수 이름 규칙)\n",
    "- 숫자로 시작하는 이름을 제외하고 영문 대소문자, _, 숫자로 구성가능\n",
    "- 아래의 예제는 모두 valid한 변수 이름\n",
    "- 일반적으로 해당 변수를 표현하고자 하는 정확하고 간결한 이름을 사용하는 것이 원칙\n",
    "    - 코드를 읽은 것을 더 쉽게 할 수 있음\n",
    "    - e.g) a = 1000의 경우 보다 student_num = 1000으로 명시한 것이 변수에 대한 이해가 빠름"
   ]
  },
  {
   "cell_type": "code",
   "execution_count": 19,
   "id": "926e0204",
   "metadata": {},
   "outputs": [],
   "source": [
    "abcABC = 100\n",
    "_abc123 = 200\n",
    "ABC124 = 200\n",
    "a456BC = 100"
   ]
  },
  {
   "cell_type": "markdown",
   "id": "60f8f794",
   "metadata": {},
   "source": [
    "#### invalid한 변수 이름의 예\n",
    "- 숫자로 시작하면 안되는 이유는?"
   ]
  },
  {
   "cell_type": "code",
   "execution_count": 20,
   "id": "c0e26a22",
   "metadata": {},
   "outputs": [
    {
     "name": "stdout",
     "output_type": "stream",
     "text": [
      "4\n"
     ]
    }
   ],
   "source": [
    "# 4 = 9를 생각해보자. 숫자변수에 숫자를 할당하면 헷갈리게 된다.\n",
    "print(4)"
   ]
  },
  {
   "cell_type": "markdown",
   "id": "650dec08",
   "metadata": {},
   "source": [
    "### reserved keyword(예약어)\n",
    "- python에서 미리 선점하여 사용중인 키워드\n",
    "- 변수, 함수, 클래스 등등의 사용자 정의 이름으로 사용할 수 없음"
   ]
  },
  {
   "cell_type": "code",
   "execution_count": 21,
   "id": "775ac022",
   "metadata": {},
   "outputs": [
    {
     "name": "stdout",
     "output_type": "stream",
     "text": [
      "100\n"
     ]
    }
   ],
   "source": [
    "# class = 100\n",
    "# print(class) \n",
    "# class, while, for, elif, else, try, except 등등 예약어다.\n",
    "_class = 100\n",
    "print(_class)"
   ]
  },
  {
   "cell_type": "markdown",
   "id": "4151b57b",
   "metadata": {},
   "source": [
    "### 기본 데이터 타입\n",
    "- 정수(int)\n",
    "- 실수(float)\n",
    "- 문자열(str)\n",
    "- 불리언(boolean)"
   ]
  },
  {
   "cell_type": "markdown",
   "id": "071cfe6b",
   "metadata": {},
   "source": [
    "#### type 함수\n",
    "- 해당 변수, 값의 타입(type)을 알고자 할 때 사용"
   ]
  },
  {
   "cell_type": "code",
   "execution_count": 22,
   "id": "43dc75a0",
   "metadata": {},
   "outputs": [
    {
     "data": {
      "text/plain": [
       "float"
      ]
     },
     "execution_count": 22,
     "metadata": {},
     "output_type": "execute_result"
    }
   ],
   "source": [
    "a = 10\n",
    "b = 11.45\n",
    "\n",
    "type(a)\n",
    "type(b)"
   ]
  },
  {
   "cell_type": "markdown",
   "id": "279485c6",
   "metadata": {},
   "source": [
    "#### None\n",
    "- 아무런 값을 갖지 않을 때 사용\n",
    "- 일반적으로 변수가 초기값을 갖지 않게 하여 해당 변수를 생성할 때 사용\n",
    "- 기타 언어의 NULL, nil등과 같은 의미로 사용"
   ]
  },
  {
   "cell_type": "code",
   "execution_count": 23,
   "id": "2aac5bb5",
   "metadata": {},
   "outputs": [
    {
     "name": "stdout",
     "output_type": "stream",
     "text": [
      "None\n"
     ]
    }
   ],
   "source": [
    "c = None\n",
    "print(c)"
   ]
  },
  {
   "cell_type": "markdown",
   "id": "e47608bf",
   "metadata": {},
   "source": [
    "#### comparison operator(비교 연산자)\n",
    "- 프로그래밍에서는 비교를 할 경우, = 대신 ==를 사용\n",
    "- <, > (작다, 크다)\n",
    "- <=, >=(작거나 같다, 크거나 같다)\n",
    "- == 같다\n",
    "- != 같지 않다\n",
    "- 비교 연산자의 결과는 bool 타입"
   ]
  },
  {
   "cell_type": "code",
   "execution_count": 24,
   "id": "9e88929b",
   "metadata": {},
   "outputs": [
    {
     "name": "stdout",
     "output_type": "stream",
     "text": [
      "True\n",
      "False\n",
      "True\n",
      "False\n",
      "False\n",
      "True\n",
      "<class 'bool'>\n",
      "True\n"
     ]
    }
   ],
   "source": [
    "a = 5\n",
    "b = 4\n",
    "\n",
    "print(a > b)\n",
    "print(a < b)\n",
    "print(a >= b)\n",
    "print(a <= b)\n",
    "print(a == b)\n",
    "print(a != b)\n",
    "\n",
    "c = a > b\n",
    "\n",
    "print(type(c))\n",
    "print(c)"
   ]
  },
  {
   "cell_type": "markdown",
   "id": "ba71bb49",
   "metadata": {},
   "source": [
    "#### numbers (숫자형 타입)\n",
    "- 정수, 실수로 구성\n",
    "- 수학의 기본 연산자(가감승제) 사용 가능"
   ]
  },
  {
   "cell_type": "code",
   "execution_count": 25,
   "id": "05e58dfc",
   "metadata": {},
   "outputs": [
    {
     "name": "stdout",
     "output_type": "stream",
     "text": [
      "9\n",
      "20\n",
      "1\n",
      "1.25\n",
      "1\n",
      "625\n"
     ]
    }
   ],
   "source": [
    "a = 5\n",
    "b = 4\n",
    "\n",
    "print(a + b)\n",
    "print(a * b)\n",
    "print(a - b)\n",
    "print(a / b)\n",
    "print(a % b)\n",
    "print(a ** b)"
   ]
  },
  {
   "cell_type": "markdown",
   "id": "fa805fbc",
   "metadata": {},
   "source": [
    "#### operator priorities(연산자 우선 순위)\n",
    "- 기본적인 수학의 연산자와 동일\n",
    "- 강제로 연산을 선수하기 위해서는, 괄호()를 사용"
   ]
  },
  {
   "cell_type": "code",
   "execution_count": 26,
   "id": "86fe9102",
   "metadata": {},
   "outputs": [
    {
     "name": "stdout",
     "output_type": "stream",
     "text": [
      "21\n",
      "36\n"
     ]
    }
   ],
   "source": [
    "a = 5\n",
    "b = 4\n",
    "print(a + b * 4)\n",
    "print((a + b) * 4)"
   ]
  },
  {
   "cell_type": "markdown",
   "id": "337417a9",
   "metadata": {},
   "source": [
    "- **연습문제** 다음의 각 a값을 출력 했을 때 결과는?"
   ]
  },
  {
   "cell_type": "code",
   "execution_count": 27,
   "id": "464c08c0",
   "metadata": {},
   "outputs": [
    {
     "name": "stdout",
     "output_type": "stream",
     "text": [
      "9\n",
      "6\n",
      "9\n"
     ]
    }
   ],
   "source": [
    "a = 9\n",
    "print(a) # 9\n",
    "print(a - 3) # 6\n",
    "print(a) # 9"
   ]
  },
  {
   "cell_type": "markdown",
   "id": "b903dc0d",
   "metadata": {},
   "source": [
    "#### expression evaluation & assignment (식 평가 & 대입)\n",
    "- 변수의 값이 변경되기 위해서는 =를 사용하여 대입이 발생하는 경우에만 해당"
   ]
  },
  {
   "cell_type": "code",
   "execution_count": 28,
   "id": "c0efd6c6",
   "metadata": {},
   "outputs": [
    {
     "name": "stdout",
     "output_type": "stream",
     "text": [
      "6\n"
     ]
    }
   ],
   "source": [
    "a = 9\n",
    "t = a - 3\n",
    "a = t\n",
    "\n",
    "print(a)"
   ]
  },
  {
   "cell_type": "code",
   "execution_count": 29,
   "id": "af25d61d",
   "metadata": {},
   "outputs": [
    {
     "name": "stdout",
     "output_type": "stream",
     "text": [
      "6\n"
     ]
    }
   ],
   "source": [
    "a = 9\n",
    "a = a - 3\n",
    "print(a)"
   ]
  },
  {
   "cell_type": "code",
   "execution_count": 30,
   "id": "963c7086",
   "metadata": {},
   "outputs": [
    {
     "name": "stdout",
     "output_type": "stream",
     "text": [
      "6\n",
      "9\n",
      "27\n"
     ]
    }
   ],
   "source": [
    "a = 9\n",
    "# a = a - 3\n",
    "a -= 3\n",
    "print(a)\n",
    "\n",
    "a += 3\n",
    "print(a)\n",
    "\n",
    "a *= 3\n",
    "print(a)"
   ]
  }
 ],
 "metadata": {
  "kernelspec": {
   "display_name": "Python 3 (ipykernel)",
   "language": "python",
   "name": "python3"
  },
  "language_info": {
   "codemirror_mode": {
    "name": "ipython",
    "version": 3
   },
   "file_extension": ".py",
   "mimetype": "text/x-python",
   "name": "python",
   "nbconvert_exporter": "python",
   "pygments_lexer": "ipython3",
   "version": "3.9.12"
  }
 },
 "nbformat": 4,
 "nbformat_minor": 5
}
