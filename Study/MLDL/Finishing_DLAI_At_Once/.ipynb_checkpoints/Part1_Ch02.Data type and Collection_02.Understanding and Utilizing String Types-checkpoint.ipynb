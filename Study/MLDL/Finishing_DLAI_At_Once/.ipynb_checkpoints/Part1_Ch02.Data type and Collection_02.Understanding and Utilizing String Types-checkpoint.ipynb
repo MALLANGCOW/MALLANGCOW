{
 "cells": [
  {
   "cell_type": "markdown",
   "id": "0940bf87",
   "metadata": {},
   "source": [
    "## 학습 목표\n",
    "1. 문자열(str) 타입 이해하기"
   ]
  },
  {
   "cell_type": "markdown",
   "id": "b678ce1c",
   "metadata": {},
   "source": [
    "### string(문자열)\n",
    "- 복수개의 문자를 순서대로 나열한 것\n",
    "- 문자열은 '(작은따옴표) 혹은 \"(큰따옴표) 사이에 문자를 넣어서 생성\n",
    "- 문자열 자체에 ', \"가 있는 경우에는 각각 그 반대의 기호로 생성"
   ]
  },
  {
   "cell_type": "markdown",
   "id": "9fc5ff4e",
   "metadata": {},
   "source": [
    "### ''' ''' 사용하여 표현 가능\n",
    "- 차이점\n",
    "    - '', \"\" → 한 줄 문자열 표현\n",
    "    - ''', ''' → 여러 줄에 걸쳐 문자열 표현 가능"
   ]
  },
  {
   "cell_type": "code",
   "execution_count": 18,
   "id": "01d23d4b",
   "metadata": {},
   "outputs": [
    {
     "name": "stdout",
     "output_type": "stream",
     "text": [
      "Hello World Hello World Hello World Hello World\n"
     ]
    }
   ],
   "source": [
    "a = 'Hello World'\n",
    "b = \"Hello World\"\n",
    "c = '''Hello World'''\n",
    "d = \"\"\"Hello World\"\"\"\n",
    "\n",
    "print(a, b, c, d)"
   ]
  },
  {
   "cell_type": "code",
   "execution_count": 19,
   "id": "94489f0b",
   "metadata": {},
   "outputs": [
    {
     "name": "stdout",
     "output_type": "stream",
     "text": [
      "Hello World 'Hello' World\n"
     ]
    }
   ],
   "source": [
    "a = 'Hello World' # ''Hello' World' 입력 불가능(작은 따옴표 사용 불가)\n",
    "b = \"'Hello' World\" # \"'Hello' World\" 입력 가능\n",
    "c = \"Hello World. It's wonderful world\"\n",
    "# \"Hellow World.\n",
    "# It's wonderful world\" (줄바꿈 불가능)\n",
    "print(a, b)"
   ]
  },
  {
   "cell_type": "code",
   "execution_count": 20,
   "id": "6bc4faed",
   "metadata": {},
   "outputs": [
    {
     "name": "stdout",
     "output_type": "stream",
     "text": [
      "Hello \n",
      "World\n"
     ]
    }
   ],
   "source": [
    "c = '''Hello \n",
    "World'''\n",
    "d = \"\"\"Hello World\"\"\"\n",
    "\n",
    "print(c)"
   ]
  },
  {
   "cell_type": "markdown",
   "id": "79abc465",
   "metadata": {},
   "source": [
    "#### escape string(이스케이프 문자)\n",
    "- 문자열내의 일부 문자의 의미를 달리하여 특정한 효과를 주는 것\n",
    "- \\n : new line, \\t : tab 등"
   ]
  },
  {
   "cell_type": "code",
   "execution_count": 21,
   "id": "38f7dead",
   "metadata": {},
   "outputs": [
    {
     "name": "stdout",
     "output_type": "stream",
     "text": [
      "Hello World\n",
      "\n",
      "\n",
      "Hahahahhaha\n",
      "Haha\thahaah\n"
     ]
    }
   ],
   "source": [
    "print('Hello World\\n\\n')\n",
    "print('Hahahahhaha')\n",
    "print('Haha\\thahaah')"
   ]
  },
  {
   "cell_type": "markdown",
   "id": "306416e1",
   "metadata": {},
   "source": [
    "#### indexing & slicing string (문자열 인덱스 및 추출)\n",
    "- 문자열의 각 문자는 순서가 있음\n",
    "- 이때 각 문자열의 순서를 **인덱스**라고 함\n",
    "- 첫 번째 문자부터 마지막까지 차례대로 순서를 가짐\n",
    "- 첫 번째 시작문자의 순서는 0으로 시작(1이 아님)\n",
    "  \n",
    "\n",
    "- **연습문제** 문자열의 마지막 문자의 순서 값은?"
   ]
  },
  {
   "cell_type": "code",
   "execution_count": 22,
   "id": "9e7fb79d",
   "metadata": {},
   "outputs": [
    {
     "name": "stdout",
     "output_type": "stream",
     "text": [
      "H\n",
      "d\n"
     ]
    }
   ],
   "source": [
    "a = 'Hello World' # 길이가 11\n",
    "print(a[0])\n",
    "print(a[10])"
   ]
  },
  {
   "cell_type": "markdown",
   "id": "356b48d1",
   "metadata": {},
   "source": [
    "#### -1 인덱스\n",
    "- 다른 언어와는 달리, python의 경우 음수 인덱스를 지원\n",
    "- -1이 가장 마지막 인덱스를, -2가 마지막에서 두 번째 인덱스를 의미"
   ]
  },
  {
   "cell_type": "code",
   "execution_count": 23,
   "id": "dfc95c84",
   "metadata": {},
   "outputs": [
    {
     "name": "stdout",
     "output_type": "stream",
     "text": [
      "d\n",
      "l\n",
      "H\n"
     ]
    }
   ],
   "source": [
    "print(a[-1])\n",
    "print(a[-2])\n",
    "print(a[-11])"
   ]
  },
  {
   "cell_type": "markdown",
   "id": "3d49649f",
   "metadata": {},
   "source": [
    "#### 인덱스의 범위\n",
    "- 인덱스는 [0, 문자열의 길이)의 범위만 유효\n",
    "- 음수 인덱스를 사용할 경우, [-문자열의 길이, -1]\n",
    "- 범위를 넘어갈 경우 에러 발생"
   ]
  },
  {
   "cell_type": "code",
   "execution_count": 24,
   "id": "eb4109d6",
   "metadata": {},
   "outputs": [],
   "source": [
    "# print(a[11]) # a[11]은 실행 불가\n",
    "# print(a[-12]) # a[-12]은 실행 불가"
   ]
  },
  {
   "cell_type": "markdown",
   "id": "557eb204",
   "metadata": {},
   "source": [
    "#### 문자열 slicing\n",
    "- 인덱스가 하나의 문자만을 추출한다면\n",
    "- slicing은 부분 문자열을 추출한다고 볼 수 있음\n",
    "- [시작:끝]와 같이 명시하여 [시작,끝)에 해당하는 부분 문자열을 추출\n",
    "- 시작, 끝 인덱스가 생략이 되어 있다면, 0부터 혹은 끝까지로 간주"
   ]
  },
  {
   "cell_type": "code",
   "execution_count": 32,
   "id": "b8878e1f",
   "metadata": {},
   "outputs": [
    {
     "name": "stdout",
     "output_type": "stream",
     "text": [
      "Hell\n",
      "ello W\n",
      "Hello World\n",
      "H\n",
      "Hello\n",
      "lo World\n",
      "Hello World\n"
     ]
    }
   ],
   "source": [
    "a = 'Hello World'\n",
    "print(a[0:4]) # 4번쨰 인덱스인 o를 제외하고 범위 지정\n",
    "print(a[1:7])\n",
    "\n",
    "print(a[0:11])\n",
    "print(a[0:1])\n",
    "\n",
    "print(a[:5])\n",
    "print(a[3:])\n",
    "\n",
    "print(a[:])"
   ]
  },
  {
   "cell_type": "markdown",
   "id": "51e7571d",
   "metadata": {},
   "source": [
    "#### 문자열 함수\n",
    "- 문자열은 여러가지 기능 제공을 위한 함수를 내장\n",
    "- 함수란 특정 기능을 하는 코드로 언제든지 호출하여 해당 기능을 사용 가능하도록 구성한 코드\n",
    "- 추후에 함수에 대해 자세히 다룰 예정"
   ]
  },
  {
   "cell_type": "code",
   "execution_count": 33,
   "id": "cf4203f2",
   "metadata": {},
   "outputs": [
    {
     "data": {
      "text/plain": [
       "'HELLO WORLD'"
      ]
     },
     "execution_count": 33,
     "metadata": {},
     "output_type": "execute_result"
    }
   ],
   "source": [
    "a = 'Hello World'\n",
    "a.upper()"
   ]
  },
  {
   "cell_type": "markdown",
   "id": "f301d02c",
   "metadata": {},
   "source": [
    "- replace\n",
    "    - 문자열 내의 특정 문자를 치환"
   ]
  },
  {
   "cell_type": "code",
   "execution_count": 36,
   "id": "2e5ab456",
   "metadata": {},
   "outputs": [
    {
     "data": {
      "text/plain": [
       "'jello world'"
      ]
     },
     "execution_count": 36,
     "metadata": {},
     "output_type": "execute_result"
    }
   ],
   "source": [
    "a = 'hello world'\n",
    "a.replace('h', 'j')"
   ]
  },
  {
   "cell_type": "markdown",
   "id": "05dabb8f",
   "metadata": {},
   "source": [
    "- format\n",
    "    - 문자열내의 특정한 값을 변수로부터 초기화하여 동적으로 문자열을 생성"
   ]
  },
  {
   "cell_type": "code",
   "execution_count": 39,
   "id": "bb8463e8",
   "metadata": {},
   "outputs": [
    {
     "name": "stdout",
     "output_type": "stream",
     "text": [
      "오늘 기온25.5도 이고, 비올 확률은 80.0% 입니다.\n"
     ]
    }
   ],
   "source": [
    "temperature = 25.5\n",
    "prob = 80.0\n",
    "a = '오늘 기온{}도 이고, 비올 확률은 {}% 입니다.'.format(temperature, prob)\n",
    "print(a)"
   ]
  },
  {
   "cell_type": "markdown",
   "id": "27cadf2e",
   "metadata": {},
   "source": [
    "- split\n",
    "    - 문자열을 특정한 문자 구분하여(delimiter) 문자열의 리스트로 치환"
   ]
  },
  {
   "cell_type": "code",
   "execution_count": 42,
   "id": "cb91a521",
   "metadata": {},
   "outputs": [
    {
     "name": "stdout",
     "output_type": "stream",
     "text": [
      "['hello', 'world', 'what', 'a', 'nice', 'weather']\n",
      "['hello ', 'orld ', 'hat a nice ', 'eather']\n"
     ]
    }
   ],
   "source": [
    "a = 'hello world what a nice weather'\n",
    "print(a.split())\n",
    "print(a.split('w'))"
   ]
  }
 ],
 "metadata": {
  "kernelspec": {
   "display_name": "Python 3 (ipykernel)",
   "language": "python",
   "name": "python3"
  },
  "language_info": {
   "codemirror_mode": {
    "name": "ipython",
    "version": 3
   },
   "file_extension": ".py",
   "mimetype": "text/x-python",
   "name": "python",
   "nbconvert_exporter": "python",
   "pygments_lexer": "ipython3",
   "version": "3.9.12"
  }
 },
 "nbformat": 4,
 "nbformat_minor": 5
}
