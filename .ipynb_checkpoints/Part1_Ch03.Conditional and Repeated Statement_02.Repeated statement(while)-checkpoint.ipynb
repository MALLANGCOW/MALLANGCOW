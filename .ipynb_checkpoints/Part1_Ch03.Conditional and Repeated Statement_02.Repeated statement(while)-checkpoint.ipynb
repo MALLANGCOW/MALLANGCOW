{
 "cells": [
  {
   "cell_type": "markdown",
   "id": "cfd30d4c",
   "metadata": {},
   "source": [
    "## 학습목표\n",
    "- 반복문의 이해 및 활용(while)"
   ]
  },
  {
   "cell_type": "markdown",
   "id": "a43ecdf9",
   "metadata": {},
   "source": [
    "### loop(반복문)\n",
    "- 반복적인 작업을 가능하게 해주는 도구\n",
    "- 특정 조건을 만족하는 경우 수행할 수 있음(while)\n",
    "- 리스트, 문자열, 튜플 등 컬렉션 타입의 아이템을 하나씩 순회하면서 사용 가능(for)\n",
    "- 코드 작업에서, 가장 많이 사용하는 구문 중 하나\n",
    "- 주의할 점 : while을 사용하는 경우, 반복을 멈추게 하는 장치가 필요\n",
    "    - 그렇지 않으면 셀이 무한히 수행되며, jupyter notebook의 재부팅이 필요"
   ]
  },
  {
   "cell_type": "markdown",
   "id": "be470320",
   "metadata": {},
   "source": [
    "### while 키워드\n",
    "- while 뒤의 조건이 True일 경우, while 코드 블록을 계속 수행\n",
    "- while 코드 블록\n",
    "    - if와 마찬가지로 while문 아래의 들여쓰기로 작성된 부분을 의미\n",
    "- 조건이 False가 되면 블록 수행을 멈추고 이후 코드를 실행"
   ]
  },
  {
   "cell_type": "markdown",
   "id": "d99fec89",
   "metadata": {},
   "source": [
    "#### while 키워드 이용하여 리스트의 아이템 출력하기"
   ]
  },
  {
   "cell_type": "code",
   "execution_count": 3,
   "id": "05f7278d",
   "metadata": {},
   "outputs": [
    {
     "name": "stdout",
     "output_type": "stream",
     "text": [
      "value :  1 0\n",
      "value :  10 1\n",
      "value :  9 2\n",
      "value :  24 3\n",
      "haha\n"
     ]
    }
   ],
   "source": [
    "a = [1, 10, 9, 24]\n",
    "\n",
    "i = 0 # 인덱스\n",
    "while i < len(a) :\n",
    "    print('value : ', a[i], i)\n",
    "    i += 1\n",
    "    \n",
    "print('haha')"
   ]
  },
  {
   "cell_type": "code",
   "execution_count": 5,
   "id": "13c7107a",
   "metadata": {
    "scrolled": true
   },
   "outputs": [
    {
     "name": "stdout",
     "output_type": "stream",
     "text": [
      "24\n",
      "25\n",
      "26\n"
     ]
    }
   ],
   "source": [
    "a = [1, 10, 9, 24, 25, 26]\n",
    "\n",
    "i = 0 # 인덱스\n",
    "while i < len(a) :\n",
    "    if a[i] > 20 :\n",
    "        print(a[i])\n",
    "    i += 1 # 인덱스를 증가시키는 것은 if 조건문 안에 있으면 안된다. 무한루프 발생"
   ]
  },
  {
   "cell_type": "code",
   "execution_count": 11,
   "id": "1671a743",
   "metadata": {},
   "outputs": [
    {
     "name": "stdout",
     "output_type": "stream",
     "text": [
      "1\n",
      "9\n",
      "25\n"
     ]
    }
   ],
   "source": [
    "a = [1, 10, 9, 24, 25, 26]\n",
    "\n",
    "i = 0 # 인덱스\n",
    "while i < len(a) :\n",
    "    if a[i] % 2 == 1 : # 홀수인 경우만 출력하기, 비교연산자 == 1 을 넣지 않아도 홀수인 경우만 출력된다.\n",
    "                       # 나머지가 1이면 1 자체가 true 값이기 때문이고 나머지가 0이면 false 값이므로 if 구문 미 실행\n",
    "        print(a[i])\n",
    "    i += 1 # 인덱스를 증가시키는 것은 if 조건문 안에 있으면 안된다. 무한루프 발생"
   ]
  },
  {
   "cell_type": "code",
   "execution_count": 12,
   "id": "ebf05839",
   "metadata": {},
   "outputs": [
    {
     "name": "stdout",
     "output_type": "stream",
     "text": [
      "1\n",
      "5.0\n",
      "9\n",
      "12.0\n",
      "25\n",
      "13.0\n"
     ]
    }
   ],
   "source": [
    "a = [1, 10, 9, 24, 25, 26]\n",
    "\n",
    "i = 0 # 인덱스\n",
    "while i < len(a) :\n",
    "    if a[i] % 2 == 1 : # 홀수인 경우만 출력하기, 비교연산자 == 1 을 넣지 않아도 홀수인 경우만 출력된다.\n",
    "                       # 나머지가 1이면 1 자체가 true 값이기 때문이고 나머지가 0이면 false 값이므로 if 구문 미 실행\n",
    "        print(a[i])\n",
    "    else : \n",
    "        print(a[i] / 2) # 짝수인 경우 2로 나눈 몫을 출력하기\n",
    "    i += 1 # 인덱스를 증가시키는 것은 if 조건문 안에 있으면 안된다. 무한루프 발생"
   ]
  },
  {
   "cell_type": "markdown",
   "id": "98e7f714",
   "metadata": {},
   "source": [
    "### 무한루프\n",
    "- while의 경우 종료가 되지 않도록 코드를 작성하면 블록에서 빠져나올 수 없음"
   ]
  },
  {
   "cell_type": "code",
   "execution_count": 13,
   "id": "61e8b899",
   "metadata": {},
   "outputs": [],
   "source": [
    "# While True : \n",
    "#     print('haha')"
   ]
  },
  {
   "cell_type": "markdown",
   "id": "0e7dd5d5",
   "metadata": {},
   "source": [
    "### break\n",
    "- loop를 중단할 때 사용\n",
    "- 보통 조건문 안에서 수행되며, 조건을 만족하는 경우 loop를 탈출하기 위해 사용\n",
    "- loop를 중단하는 경우, while 이후의 코드를 수행"
   ]
  },
  {
   "cell_type": "code",
   "execution_count": 17,
   "id": "fc9560e2",
   "metadata": {},
   "outputs": [
    {
     "name": "stdout",
     "output_type": "stream",
     "text": [
      "1\n",
      "10\n",
      "9\n",
      "hahaha\n"
     ]
    }
   ],
   "source": [
    "a = [1, 10, 9, 24, 25, 26]\n",
    "\n",
    "i = 0\n",
    "while i < len(a) :\n",
    "    if a[i] > 20 :\n",
    "        break\n",
    "        \n",
    "    print(a[i])\n",
    "    \n",
    "    i += 1\n",
    "print('hahaha')"
   ]
  },
  {
   "cell_type": "code",
   "execution_count": 18,
   "id": "977caaf5",
   "metadata": {
    "scrolled": true
   },
   "outputs": [
    {
     "ename": "NameError",
     "evalue": "name 'crawl' is not defined",
     "output_type": "error",
     "traceback": [
      "\u001b[1;31m---------------------------------------------------------------------------\u001b[0m",
      "\u001b[1;31mNameError\u001b[0m                                 Traceback (most recent call last)",
      "Input \u001b[1;32mIn [18]\u001b[0m, in \u001b[0;36m<cell line: 2>\u001b[1;34m()\u001b[0m\n\u001b[0;32m      1\u001b[0m \u001b[38;5;28;01mwhile\u001b[39;00m \u001b[38;5;28;01mTrue\u001b[39;00m : \n\u001b[1;32m----> 2\u001b[0m     data \u001b[38;5;241m=\u001b[39m \u001b[43mcrawl\u001b[49m()\n\u001b[0;32m      3\u001b[0m     \u001b[38;5;28;01mif\u001b[39;00m data \u001b[38;5;241m==\u001b[39m \u001b[38;5;28;01mNone\u001b[39;00m :\n\u001b[0;32m      4\u001b[0m         \u001b[38;5;28;01mbreak\u001b[39;00m\n",
      "\u001b[1;31mNameError\u001b[0m: name 'crawl' is not defined"
     ]
    }
   ],
   "source": [
    "while True : \n",
    "    data = crawl()\n",
    "    if data == None :\n",
    "        break\n",
    "    print(data)"
   ]
  },
  {
   "cell_type": "markdown",
   "id": "36c076ab",
   "metadata": {},
   "source": [
    "### continue\n",
    "- break 처럼 반복을 중단하여 빠져나오지 않고, 다시 while 조건으로 점프함\n",
    "- 특정한 경우에는 코드를 수행하지 않고 다음으로 건너뛰기 위해 사용"
   ]
  },
  {
   "cell_type": "code",
   "execution_count": 20,
   "id": "cf5b11f4",
   "metadata": {},
   "outputs": [
    {
     "name": "stdout",
     "output_type": "stream",
     "text": [
      "6\n",
      "5\n",
      "4\n",
      "3\n",
      "2\n",
      "1\n",
      "0\n"
     ]
    }
   ],
   "source": [
    "a = 7\n",
    "while a > 0 :\n",
    "    a -= 1\n",
    "    print(a)"
   ]
  },
  {
   "cell_type": "code",
   "execution_count": 22,
   "id": "91922346",
   "metadata": {},
   "outputs": [
    {
     "name": "stdout",
     "output_type": "stream",
     "text": [
      "6\n",
      "4\n",
      "3\n",
      "2\n",
      "1\n",
      "0\n"
     ]
    }
   ],
   "source": [
    "a = 7\n",
    "while a > 0 :\n",
    "    a -= 1\n",
    "    if a == 5 :\n",
    "        continue # a == 5 일떄 바로 while로 넘어가 다시 while 실행\n",
    "    print(a)"
   ]
  },
  {
   "cell_type": "markdown",
   "id": "42b6eedc",
   "metadata": {},
   "source": [
    "#### 1 - 100까지 더하기"
   ]
  },
  {
   "cell_type": "code",
   "execution_count": 23,
   "id": "42d60023",
   "metadata": {},
   "outputs": [
    {
     "name": "stdout",
     "output_type": "stream",
     "text": [
      "5050\n"
     ]
    }
   ],
   "source": [
    "num = 1\n",
    "_sum = 0\n",
    "\n",
    "while num <= 100 :\n",
    "    _sum += num\n",
    "    num += 1\n",
    "print(_sum)"
   ]
  },
  {
   "cell_type": "code",
   "execution_count": 26,
   "id": "7565eb25",
   "metadata": {},
   "outputs": [
    {
     "name": "stdout",
     "output_type": "stream",
     "text": [
      "1 2\n",
      "3 3\n",
      "6 4\n",
      "10 5\n",
      "15 6\n",
      "21 7\n",
      "28 8\n",
      "36 9\n",
      "45 10\n",
      "55 11\n",
      "55\n"
     ]
    }
   ],
   "source": [
    "num = 1\n",
    "_sum = 0\n",
    "\n",
    "while num <= 10 :\n",
    "    _sum += num\n",
    "    num += 1\n",
    "    print(_sum, num)\n",
    "print(_sum)"
   ]
  }
 ],
 "metadata": {
  "kernelspec": {
   "display_name": "Python 3 (ipykernel)",
   "language": "python",
   "name": "python3"
  },
  "language_info": {
   "codemirror_mode": {
    "name": "ipython",
    "version": 3
   },
   "file_extension": ".py",
   "mimetype": "text/x-python",
   "name": "python",
   "nbconvert_exporter": "python",
   "pygments_lexer": "ipython3",
   "version": "3.9.12"
  }
 },
 "nbformat": 4,
 "nbformat_minor": 5
}
