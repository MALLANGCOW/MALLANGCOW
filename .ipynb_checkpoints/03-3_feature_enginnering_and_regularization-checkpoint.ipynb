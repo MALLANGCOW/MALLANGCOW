{
 "cells": [
  {
   "cell_type": "markdown",
   "id": "f4f6b134",
   "metadata": {},
   "source": [
    "앞선 절에서 길이와 길이의 제곱을 사용하여 선형 회귀 모델을 훈련시켰지만 과소적합이 나타났고 제곱보다 고차항을 얼마나 넣어야 할지, 수동으로 고차항을 넣기도 힘든 상황이다.  \n",
    "길이 뿐만이 아닌 높이와 두께 데이터도 사용하여 다항 회귀에 적용해보자."
   ]
  },
  {
   "attachments": {
    "image.png": {
     "image/png": "[encoded data removed]"
    }
   },
   "cell_type": "markdown",
   "id": "975d66d7",
   "metadata": {},
   "source": [
    "### 다중회귀  \n",
    "여러 개의 특성을 사용한 선형 회귀를 **다중 회귀(multiple regression)**라고 부른다.  \n",
    "2절에서처럼 1개의 특성을 사용했을 때는 선형 회귀 모델이 학습하는 것은 직선이다. 2개의 특성을 사용하면 무엇을 학습할까?  \n",
    "특성이 2개이면 선형 회귀는 평면을 학습한다.\n",
    "\n",
    "![image.png](attachment:image.png)\n",
    "\n",
    "오른쪽 그림처럼 특성이 2개면 타깃값과 함께 3차원 공간을 형성하고 선형 회귀 방정식  \n",
    "$'타깃 = a*특성1 + b*특성2 + 절편'$은 평면이 된다.  \n",
    "특성이 3개라면 그 이상의 차원이 된다. 특성이 많은 고차원에서는 선형 회귀가 매우 복잡한 모델을 표현할 수 있다.  \n",
    "---\n",
    "이제는 높이와 두께도 함께 사용하고 이전 절에서 처럼 3개의 특성을 각각 제곱하여 추가할 것이다. 또한 각 특성을 서로 곱해서 또 다른 특성을 만들어 사용 할 예정이다. 즉 길이 X 높이 를 새로운 특성으로 만드는 것이다.  \n",
    "이렇게 기존의 특성을 사용해 새로운 특성을 뽑아내는 작업을 **특성 공학(feature engineering)**이라고 한다."
   ]
  },
  {
   "cell_type": "markdown",
   "id": "1ea0dbb4",
   "metadata": {},
   "source": [
    "이전과 달리 특성이 3개로 늘어나 데이터를 복사해 붙여 넣는 것이 번거롭다. 인터넷에서 데이터를 바로 다운로드하면 편할 것이다. **판다스**를 사용하면 간단하다.  \n",
    "\n",
    "**판다스(pandas)**는 데이터 분석 라이브러리이다. **데이터프레임**은 판다스의 핵심 데이터 구조이다. 데이터 프레임은 넘파이 배열로 쉽게 바꿀 수도 있다."
   ]
  },
  {
   "attachments": {
    "image.png": {
     "image/png": "[encoded data removed]"
    }
   },
   "cell_type": "markdown",
   "id": "792489ae",
   "metadata": {},
   "source": [
    "판다스를 사용하여 데이터를 다운로드 받아 데이터 프레임에 저장한다. 그 다음 넘파이 배열로 변환하여 선형 회귀 모델을 훈련해 보자.   \n",
    "판다스 데이터프레임을 만들기 위해 많이 사용하는 파일은 CSV 파일이다. CSV 파일은 콤마로 나누어져 있는 텍스트 파일이다.  \n",
    "판다스의 read_csv() 함수에 주소를 넣어 웹에서 파일 내용을 불러올 수 있으며 read_csv() 함수로 데이터프레임을 만든 다음 to_numpy() 메서드를 사용해 넘파이 배열로 바꾼다.  \n",
    "\n",
    "![image.png](attachment:image.png)"
   ]
  },
  {
   "cell_type": "code",
   "execution_count": 1,
   "id": "96d6958f",
   "metadata": {},
   "outputs": [
    {
     "name": "stdout",
     "output_type": "stream",
     "text": [
      "[[ 8.4   2.11  1.41]\n",
      " [13.7   3.53  2.  ]\n",
      " [15.    3.82  2.43]\n",
      " [16.2   4.59  2.63]\n",
      " [17.4   4.59  2.94]\n",
      " [18.    5.22  3.32]\n",
      " [18.7   5.2   3.12]\n",
      " [19.    5.64  3.05]\n",
      " [19.6   5.14  3.04]\n",
      " [20.    5.08  2.77]\n",
      " [21.    5.69  3.56]\n",
      " [21.    5.92  3.31]\n",
      " [21.    5.69  3.67]\n",
      " [21.3   6.38  3.53]\n",
      " [22.    6.11  3.41]\n",
      " [22.    5.64  3.52]\n",
      " [22.    6.11  3.52]\n",
      " [22.    5.88  3.52]\n",
      " [22.    5.52  4.  ]\n",
      " [22.5   5.86  3.62]\n",
      " [22.5   6.79  3.62]\n",
      " [22.7   5.95  3.63]\n",
      " [23.    5.22  3.63]\n",
      " [23.5   6.28  3.72]\n",
      " [24.    7.29  3.72]\n",
      " [24.    6.38  3.82]\n",
      " [24.6   6.73  4.17]\n",
      " [25.    6.44  3.68]\n",
      " [25.6   6.56  4.24]\n",
      " [26.5   7.17  4.14]\n",
      " [27.3   8.32  5.14]\n",
      " [27.5   7.17  4.34]\n",
      " [27.5   7.05  4.34]\n",
      " [27.5   7.28  4.57]\n",
      " [28.    7.82  4.2 ]\n",
      " [28.7   7.59  4.64]\n",
      " [30.    7.62  4.77]\n",
      " [32.8  10.03  6.02]\n",
      " [34.5  10.26  6.39]\n",
      " [35.   11.49  7.8 ]\n",
      " [36.5  10.88  6.86]\n",
      " [36.   10.61  6.74]\n",
      " [37.   10.84  6.26]\n",
      " [37.   10.57  6.37]\n",
      " [39.   11.14  7.49]\n",
      " [39.   11.14  6.  ]\n",
      " [39.   12.43  7.35]\n",
      " [40.   11.93  7.11]\n",
      " [40.   11.73  7.22]\n",
      " [40.   12.38  7.46]\n",
      " [40.   11.14  6.63]\n",
      " [42.   12.8   6.87]\n",
      " [43.   11.93  7.28]\n",
      " [43.   12.51  7.42]\n",
      " [43.5  12.6   8.14]\n",
      " [44.   12.49  7.6 ]]\n"
     ]
    }
   ],
   "source": [
    "import pandas as pd # pd는 관례적으로 사용하는 판다스의 별칭이다.\n",
    "df = pd.read_csv('https://bit.ly/perch_csv_data')\n",
    "perch_full = df.to_numpy()\n",
    "print(perch_full)"
   ]
  },
  {
   "cell_type": "code",
   "execution_count": 2,
   "id": "1aa2093a",
   "metadata": {},
   "outputs": [],
   "source": [
    "import numpy as np\n",
    "perch_weight = np.array([5.9, 32.0, 40.0, 51.5, 70.0, 100.0, 78.0, 80.0, 85.0, 85.0, 110.0,\n",
    "       115.0, 125.0, 130.0, 120.0, 120.0, 130.0, 135.0, 110.0, 130.0,\n",
    "       150.0, 145.0, 150.0, 170.0, 225.0, 145.0, 188.0, 180.0, 197.0,\n",
    "       218.0, 300.0, 260.0, 265.0, 250.0, 250.0, 300.0, 320.0, 514.0,\n",
    "       556.0, 840.0, 685.0, 700.0, 700.0, 690.0, 900.0, 650.0, 820.0,\n",
    "       850.0, 900.0, 1015.0, 820.0, 1100.0, 1000.0, 1100.0, 1000.0,\n",
    "       1000.0])"
   ]
  },
  {
   "cell_type": "code",
   "execution_count": 3,
   "id": "3ad06f65",
   "metadata": {},
   "outputs": [],
   "source": [
    "from sklearn.model_selection import train_test_split\n",
    "train_input, test_input, train_target, test_target = train_test_split(perch_full, perch_weight, random_state = 42)"
   ]
  },
  {
   "cell_type": "markdown",
   "id": "e820d266",
   "metadata": {},
   "source": [
    "### 사이킷런의 변환기  \n",
    "사이킷런은 특성을 만들거나 전처리하기 위한 다양한 클래스를 제공한다. 사이킷런에서는 이런 클래스를 변환기(transformer)라고 부르며 변환기 클래스는 fit(), transform() 메서드를 제공한다."
   ]
  },
  {
   "cell_type": "code",
   "execution_count": 4,
   "id": "9f11c30d",
   "metadata": {},
   "outputs": [],
   "source": [
    "from sklearn.preprocessing import PolynomialFeatures"
   ]
  },
  {
   "cell_type": "markdown",
   "id": "ee93bea5",
   "metadata": {},
   "source": [
    "PolynomialFeaturs 클래스를 사용했으며 2개의 특성 2와 3으로 이루어진 샘플 하나를 적용해보자. 이 클래스의 객체를 만든 다음 fit(), transform() 메서드를 차례대로 호출한다."
   ]
  },
  {
   "cell_type": "code",
   "execution_count": 5,
   "id": "69cd108d",
   "metadata": {},
   "outputs": [
    {
     "name": "stdout",
     "output_type": "stream",
     "text": [
      "[[1. 2. 3. 4. 6. 9.]]\n"
     ]
    }
   ],
   "source": [
    "poly = PolynomialFeatures()\n",
    "poly.fit([[2,3]])\n",
    "print(poly.transform([[2,3]]))"
   ]
  },
  {
   "cell_type": "markdown",
   "id": "107c2c78",
   "metadata": {},
   "source": [
    "이때 훈련(fit)을 해야 변환(transform)이 가능하다. 사이킷런의 api 때문에 두 단계로 나누어 해야하며, 두 메서드를 합친 fit_transform 메서드도 있다."
   ]
  },
  {
   "cell_type": "markdown",
   "id": "4c919900",
   "metadata": {},
   "source": [
    "fit() 메서드는 새롭게 만들 특성 조합을 찾고 transform() 메서드는 실제로 데이터를 변환한다.  \n",
    "변환기는 입력 데이터를 변환하는 데 타깃 데이터가 필요하지 않다. 따라서 모델 클래스와는 다르게 fit() 메서드에 입력 데이터만 전달하였다.  \n",
    "즉 여기에서는 2개의 특성(원소)를 가진 샘플 [2,3]이 6개의 특성을 가진 샘플 [1,2,3,4,6,9]로 바뀌었다.  \n",
    "\n",
    "특성이 많아졌다! PolynomialFeatures 클래스는 기본적으로 각 특성을 제곱한 항을 추가하고 서로 곱한 항을 추가한다.  \n",
    "2와 3을 각기 제곱한 4와 9가 추가되었고, 2와 3을 곱한 6이 추가되었다. 1은 왜 추가되었을까? 아래의 식을 보자.  \n",
    "\n",
    "$무게 = a*길이 +b*높이 + c*두께 + d*1$\n",
    "\n",
    "선형 방정식의 절편을 항상 값이 1인 특성과 곱해지는 계수라고 볼 수 있다. 이렇게 보면 특성은 (길이, 높이, 두께, 1)이 된다. 하지만 사이킷런의 선형 모델은 자동으로 절편을 추가하므로 굳이 이렇게 특성을 생성할 필요가 없다. include_bias=False로 지정하여 다시 특성을 변환해보자.\n"
   ]
  },
  {
   "cell_type": "code",
   "execution_count": 6,
   "id": "d3b1c1bd",
   "metadata": {},
   "outputs": [
    {
     "name": "stdout",
     "output_type": "stream",
     "text": [
      "[[2. 3. 4. 6. 9.]]\n"
     ]
    }
   ],
   "source": [
    "poly = PolynomialFeatures(include_bias=False)\n",
    "poly.fit([[2,3]])\n",
    "print(poly.transform([[2,3]]))"
   ]
  },
  {
   "cell_type": "markdown",
   "id": "21186c32",
   "metadata": {},
   "source": [
    "절편을 위한 항이 제거되고 특성의 제곱과 특성끼리 곱한 항만 추가되었다.  \n",
    "그런데 include_bias=False는 꼭 지정해야하나?  \n",
    "include_bias=False로 지정하지 않아도 사이킷런 모델은 자동으로 특성에 추가된 절편 항을 무시한다. 하지만 여기서는 혼돈을 피하기 위해 명시적으로 지정했다."
   ]
  },
  {
   "cell_type": "markdown",
   "id": "5c3a9da5",
   "metadata": {},
   "source": [
    "이제 이 방식으로 train_input에 적용해보자 train_input을 변환한 데이터를 train_poly에 저장하고 이 배열의 크기를 확인해보자."
   ]
  },
  {
   "cell_type": "code",
   "execution_count": 7,
   "id": "6343f782",
   "metadata": {},
   "outputs": [
    {
     "name": "stdout",
     "output_type": "stream",
     "text": [
      "(42, 9)\n"
     ]
    }
   ],
   "source": [
    "poly = PolynomialFeatures(include_bias=False)\n",
    "poly.fit(train_input)\n",
    "train_poly = poly.transform(train_input)\n",
    "print(train_poly.shape)"
   ]
  },
  {
   "cell_type": "markdown",
   "id": "4a59fa19",
   "metadata": {},
   "source": [
    "PolynomialFeatures 클래스는 9개의 특성이 어떻게 만들어졌는지 확인하는 좋은 방법을 제공한다. get_feature_names_out() 메서드를 사용하면 9개의 특성이 각각 어떤 입력의 조합으로 만들어졌는지 알려준다."
   ]
  },
  {
   "cell_type": "code",
   "execution_count": 8,
   "id": "12d32d63",
   "metadata": {},
   "outputs": [
    {
     "data": {
      "text/plain": [
       "array(['x0', 'x1', 'x2', 'x0^2', 'x0 x1', 'x0 x2', 'x1^2', 'x1 x2',\n",
       "       'x2^2'], dtype=object)"
      ]
     },
     "execution_count": 8,
     "metadata": {},
     "output_type": "execute_result"
    }
   ],
   "source": [
    "poly.get_feature_names_out()"
   ]
  },
  {
   "cell_type": "code",
   "execution_count": 9,
   "id": "c8e51d23",
   "metadata": {},
   "outputs": [],
   "source": [
    "test_poly = poly.transform(test_input)"
   ]
  },
  {
   "cell_type": "markdown",
   "id": "61b19c05",
   "metadata": {},
   "source": [
    "이때 꼭 훈련 세트에 적용했던 변환기로 테스트 세트를 변환해야 하나 싶지만 사실 PolynomialFeatures클래스는 fit() 메서드에서 만들 특성의 조합을 준비하기만 하고 별도의 통계 값을 구하지 않는다. 따라서 테스트 세트를 따로 변환해도 된다. 하지만 항상 훈련 세트를 기준으로 테스트 세트를 변환하는 습관을 들이는게 좋다.  \n",
    "\n",
    "이어서 변환된 특성을 사용하여 다중 회귀 모델을 훈련해보자.  \n",
    "다중 회귀 모델을 훈련하는 것은 선형 회귀 모델을 훈련하는 것과 같다. 다만 여러개의 특성을 사용하여 선형 회귀를 수행하는 것이다. 먼저 사이킷런의 LinearRegression 클래스를 임포트 하고 앞에서 만든 train_poly를 사용해 모델을 훈련해보자."
   ]
  },
  {
   "cell_type": "code",
   "execution_count": 10,
   "id": "9a9a13ba",
   "metadata": {},
   "outputs": [
    {
     "name": "stdout",
     "output_type": "stream",
     "text": [
      "0.9903183436982125\n"
     ]
    }
   ],
   "source": [
    "from sklearn.linear_model import LinearRegression\n",
    "lr = LinearRegression()\n",
    "lr.fit(train_poly, train_target)\n",
    "print(lr.score(train_poly, train_target))"
   ]
  },
  {
   "cell_type": "markdown",
   "id": "2f208d68",
   "metadata": {},
   "source": [
    "높은 점수가 나왔다. 길이 뿐만 아니라 높이와 두께를 모두 사용했고 각 특성을 제곱하거나 서로 곱해서 다항 특성을 더 추가 하였다. 특성이 늘어나면 선형 회귀의 능력은 좋아진다는 것을 알 수 있다.  \n",
    "\n",
    "테스트 세트에 대한 점수도 확인해보자."
   ]
  },
  {
   "cell_type": "code",
   "execution_count": 11,
   "id": "e2caaad5",
   "metadata": {},
   "outputs": [
    {
     "name": "stdout",
     "output_type": "stream",
     "text": [
      "0.9714559911594155\n"
     ]
    }
   ],
   "source": [
    "print(lr.score(test_poly, test_target))"
   ]
  },
  {
   "cell_type": "markdown",
   "id": "e8e87975",
   "metadata": {},
   "source": [
    "테스트 세트에 대한 점수는 높아지지 않았지만 길이만 사용했을 때 있던 과소적합 문제는 나타나지 않는다. \n",
    "특성을 아주 많이 만들어보면 어떨까?? 3제곱, 4제곱을 넣어보는 것이다.  \n",
    "PolynomialFeatures 클래스의 degree 매개변수를 사용하여 필요한 고차항의 최대 차수를 지정해볼 수 있다. 5제곱까지 특성을 만들어 보자."
   ]
  },
  {
   "cell_type": "code",
   "execution_count": 12,
   "id": "f628dba3",
   "metadata": {},
   "outputs": [
    {
     "name": "stdout",
     "output_type": "stream",
     "text": [
      "(42, 55)\n"
     ]
    }
   ],
   "source": [
    "poly = PolynomialFeatures(degree=5, include_bias=False)\n",
    "poly.fit(train_input)\n",
    "train_poly = poly.transform(train_input)\n",
    "test_poly = poly.transform(test_input)\n",
    "print(train_poly.shape)"
   ]
  },
  {
   "cell_type": "markdown",
   "id": "f0bb5127",
   "metadata": {},
   "source": [
    "만들어진 특성의 개수가 55개이며 선형 회귀 모델을 다시 훈련해보자."
   ]
  },
  {
   "cell_type": "code",
   "execution_count": 13,
   "id": "8b8df41a",
   "metadata": {},
   "outputs": [
    {
     "name": "stdout",
     "output_type": "stream",
     "text": [
      "0.9999999999938143\n"
     ]
    }
   ],
   "source": [
    "lr.fit(train_poly,train_target)\n",
    "print(lr.score(train_poly, train_target))"
   ]
  },
  {
   "cell_type": "code",
   "execution_count": 14,
   "id": "7b0f1680",
   "metadata": {},
   "outputs": [
    {
     "name": "stdout",
     "output_type": "stream",
     "text": [
      "-144.40744532797535\n"
     ]
    }
   ],
   "source": [
    "print(lr.score(test_poly, test_target))"
   ]
  },
  {
   "cell_type": "markdown",
   "id": "b50864c3",
   "metadata": {},
   "source": [
    "테스트 세트에 대해서는 점수가 아주 낮게 나왔다. 문제가 무엇일까?  \n",
    "특성의 개수를 크게 늘리면 선형 모델은 아주 강력해져 훈련 세트에 대해 거의 완벽하게 학습할 수 있다. 하지만 훈련 세트에 너무 과대적합되어 테스트 세트에서는 형편없는 점수가 발생하게 된다.  \n",
    "샘플의 개수는 42개이고 특성의 개수는 55개이므로 훈련 세트에 대해서는 완벽하게 학습이 가능하였다."
   ]
  },
  {
   "cell_type": "markdown",
   "id": "4e9b9523",
   "metadata": {},
   "source": [
    "이 문제를 해결하려면 특성의 개수를 줄여야한다.  \n",
    "\n",
    "---\n",
    "### 규제  \n",
    "규제(regularization)는 머신러닝 모델이 훈련 세트를 너무 과도하게 학습하지 못하게 훼방하는 것을 말한다. 즉 모델이 훈련 세트에 과대적합하지 않게 만드는 것이다. 선형 회귀 모델의 경우 특성에 곱해지는 계수(또는 기울기)의 크기를 작게 만드는 것이다."
   ]
  },
  {
   "attachments": {
    "image-2.png": {
     "image/png": "[encoded data removed]"
    }
   },
   "cell_type": "markdown",
   "id": "90baa55a",
   "metadata": {},
   "source": [
    "![image-2.png](attachment:image-2.png)\n",
    "위의 그림은 왼쪽은 훈련 세트를 과도하게 학습했고 오른쪽은 기울기를 줄여 보다 보편적인 패턴을 학습하고 있다.  \n",
    "앞서 55개의 특성으로 훈련한 선형 회귀 모델의 계수를 규제하여 훈련 세트의 점수를 낮추고 대신 테스트 세트의 점수를 높여 보자."
   ]
  },
  {
   "cell_type": "markdown",
   "id": "fc7f284d",
   "metadata": {},
   "source": [
    "그 전에 특성의 스케일에 대해 알아보자. 2장에서 봤듯이 특성의 스케일이 정규화되지 않으면 여기에 곱해지는 계수값도 차이가 나게 된다. 선형 모델에 규제를 적용할 때 계수 값의 크기가 서로 많이 다르면 공정하게 제어가 되지 않을 것이다.  \n",
    "그렇다면 규제를 적용하기 전에 **정규화**를 먼저 해야한다. 2장에서는 평균과 표준편차를 직접 구하여 특성을 표준편차로 바꾸었지만, 이번에는 사이킷런에서 제공하는 StandardScaler 클래스를 사용할 것이다. 이 클래스도 변환기 중 하나이다."
   ]
  },
  {
   "cell_type": "code",
   "execution_count": 15,
   "id": "e4d6fdb4",
   "metadata": {},
   "outputs": [],
   "source": [
    "from sklearn.preprocessing import StandardScaler\n",
    "ss = StandardScaler()\n",
    "ss.fit(train_poly)\n",
    "train_scaled = ss.transform(train_poly)\n",
    "test_scaled = ss.transform(test_poly)"
   ]
  },
  {
   "cell_type": "markdown",
   "id": "9fc80265",
   "metadata": {},
   "source": [
    "먼저 StandardScaler 클래스의 객체 ss를 초기화한 후 PolynomialFeatures 클래스로 만든 train_poly를 사용해 이 객체를 훈련한다. <font color=pink>꼭 유의해야할 점은 훈련 세트로 학습한 변환기를 사용해 테스트 세트까지 변환해야한다.</font>  \n",
    "위의 과정을 거쳐 표준점수로 변환한 train_scaled와 test_scaled가 준비되었다."
   ]
  },
  {
   "cell_type": "markdown",
   "id": "64d3f24b",
   "metadata": {},
   "source": [
    "#### 선형 회귀 모델에 규제를 추가한 모델을 릿지(ridge)와 라쏘(lasso)라고 부른다.  \n",
    "두 모델은 규제를 가하는 방법이 다르다.  \n",
    "릿지는 계수를 제곱한 값을 기준으로 규제를 적용하고  \n",
    "라쏘는 계수의 절댓값을 기준으로 규제를 적용한다.  \n",
    "보통 릿지를 조금 더 선호하며 두 알고리즘 모두 계수의 크기를 줄이지만 라쏘는 아예 0으로 만들 수도 있다. 사이킷런이 이 두 알고리즘을 모두 제공한다."
   ]
  },
  {
   "cell_type": "markdown",
   "id": "2b816027",
   "metadata": {},
   "source": [
    "#### 릿지 회귀  \n",
    "릿지와 라쏘 모두 sklearn.linear_model 패키지 안에 있다. 모델 객체를 만들고 fit() 메서드에서 훈련한 다음 score() 메서드로 평가한다. 앞서 준비한 train_scaled 데이터로 릿지 모델을 훈련해보자."
   ]
  },
  {
   "cell_type": "code",
   "execution_count": 16,
   "id": "407000cd",
   "metadata": {},
   "outputs": [
    {
     "name": "stdout",
     "output_type": "stream",
     "text": [
      "0.9896101671037343\n"
     ]
    }
   ],
   "source": [
    "from sklearn.linear_model import Ridge\n",
    "ridge = Ridge()\n",
    "ridge.fit(train_scaled, train_target)\n",
    "print(ridge.score(train_scaled, train_target))"
   ]
  },
  {
   "cell_type": "markdown",
   "id": "794e56dc",
   "metadata": {},
   "source": [
    "선형 회귀에서는 거의 1에 가까웠던 점수가 조금 낮아졌다. 테스트 세트에 대한 점수를 확인해보자."
   ]
  },
  {
   "cell_type": "code",
   "execution_count": 17,
   "id": "4c2776c2",
   "metadata": {
    "scrolled": true
   },
   "outputs": [
    {
     "name": "stdout",
     "output_type": "stream",
     "text": [
      "0.9790693977615386\n"
     ]
    }
   ],
   "source": [
    "print(ridge.score(test_scaled, test_target))"
   ]
  },
  {
   "cell_type": "markdown",
   "id": "b132ca52",
   "metadata": {},
   "source": [
    "테스트 세트 점수가 높아졌다. 많은 특성을 사용했음에 불구하고 훈련 세트에 과대적합되지 않았다.  \n",
    "\n",
    "릿지와 라쏘 모델을 사용할 때 규제의 양을 임의로 조정이 가능하다. 모델 객체를 만들 때 alpha 매개변수로 규제의 강도 조절이 가능하다. alpha 값이 크면 규제 강도가 세지므로 계수 값을 더 줄이고 조금 더 과소적합되도록 유도한다.  \n",
    "반대로 alpha 값이 작으면 계수를 줄이는 역할이 줄어들고 선형 회귀 모델과 유사해지므로 과대적합 가능성이 커진다."
   ]
  },
  {
   "cell_type": "markdown",
   "id": "3322461d",
   "metadata": {},
   "source": [
    "### 사람이 직접 지정해야 하는 매개변수  \n",
    "alpha 값은 릿지 모델이 학습하는 것이 아니라 사전에 사람이 지정해야 하는 값이다. 이렇게 머신러닝 모델이 학습할 수 없고 사람이 알려줘야 하는 파라미터를 **하이퍼파라미터(hyperparameter)**라고 부른다.  \n",
    "사이킷런과 같은 머신러닝 라이브러리에서 하이퍼파라미터는 클래스와 메서드의 매개변수로 표현된다."
   ]
  },
  {
   "cell_type": "markdown",
   "id": "d170a1cf",
   "metadata": {},
   "source": [
    "적절한 alpha 값을 찾는 방법은 alpha 값에 대한 $R^2$ 값의 그래프를 그려보는 것이다. 훈련 세트와 테스트 세트의 점수가 가장 가까운 지점이 최적의 alpha 값이 된다.  \n",
    "먼저 맷플롯립을 임포트하고 alpha 값을 바꿀 때마다 score() 메서드의 결과를 저장할 리스트를 만든다."
   ]
  },
  {
   "cell_type": "code",
   "execution_count": 18,
   "id": "38ff113a",
   "metadata": {},
   "outputs": [],
   "source": [
    "import matplotlib.pyplot as plt\n",
    "train_score = []\n",
    "test_score = []\n"
   ]
  },
  {
   "cell_type": "markdown",
   "id": "2a9f2ac8",
   "metadata": {},
   "source": [
    "다음 코드는 alpha 값을 0.001에서 100까지 10배씩 늘려가며 회귀 모델을 훈련한 다음 훈련 세트와 테스트 세트의 점수를 파이썬 리스트에 저장한다."
   ]
  },
  {
   "cell_type": "code",
   "execution_count": 19,
   "id": "98e548b5",
   "metadata": {},
   "outputs": [],
   "source": [
    "alpha_list = [0.001, 0.01, 0.1, 1, 10, 100]\n",
    "for alpha in alpha_list : \n",
    "    # 릿지 모델 만들기  \n",
    "    ridge = Ridge(alpha = alpha)\n",
    "    # 릿지 모델 훈련하기\n",
    "    ridge.fit(train_scaled, train_target)\n",
    "    # 훈련 점수와 테스트 점수를 저장한다.\n",
    "    train_score.append(ridge.score(train_scaled, train_target))\n",
    "    test_score.append(ridge.score(test_scaled, test_target))"
   ]
  },
  {
   "cell_type": "markdown",
   "id": "08a3f7cf",
   "metadata": {},
   "source": [
    "### append가 뭐냐??(써놓고도 잘 모르겠다. 공부 해야됨)\n",
    "array.append(x)의 형태로 사용한다. 괄호 안에 값을 입력하면 새로운 요소를 array 끝에 새로운 요소로 추가한다. \n",
    "요소를 추가할 때 객체로 추가한다. 입력한 값이 리스트와 같은 반복 가능한 iterable 자료형이더라도 객체로 저장한다."
   ]
  },
  {
   "cell_type": "code",
   "execution_count": 23,
   "id": "8680b666",
   "metadata": {},
   "outputs": [
    {
     "name": "stdout",
     "output_type": "stream",
     "text": [
      "[1, 2, 3, 4]\n",
      "[1, 2, 3, 4, [5, 6]]\n"
     ]
    }
   ],
   "source": [
    "nums = [1, 2, 3]\n",
    "nums.append(4)\n",
    "print(nums)\n",
    "nums.append([5,6])\n",
    "print(nums)"
   ]
  },
  {
   "cell_type": "markdown",
   "id": "1c9b9ffb",
   "metadata": {},
   "source": [
    "이제 그래프를 그려볼건데 alpha 값을 0.001부터 10배씩 늘렸기 때문이 이대로 그래프를 그리면 그래프 왼쪽이 엄청 촘촘해진다.  \n",
    "alpha_list에 있는 6개의 값을 동일한 간격으로 그리기 위해서는 로그 함수로 바꾸어 지수로 표현해야 한다.  \n",
    "즉 0.001은 -3, 0.01은 -2가 되는 식이다."
   ]
  },
  {
   "cell_type": "markdown",
   "id": "d75833c6",
   "metadata": {},
   "source": [
    "※ 넘파이 로그 함수는 np.log()와 np.log10()이 있다. 전자는 자연 상수 $e$를 밑으로 하는 자연로그이고 후자는 10을 밑으로 하는 상용로그이다."
   ]
  },
  {
   "cell_type": "code",
   "execution_count": 24,
   "id": "2a5faaed",
   "metadata": {},
   "outputs": [
    {
     "data": {
      "image/png": "[encoded data removed]",
      "text/plain": [
       "<Figure size 432x288 with 1 Axes>"
      ]
     },
     "metadata": {
      "needs_background": "light"
     },
     "output_type": "display_data"
    }
   ],
   "source": [
    "plt.plot(np.log10(alpha_list), train_score)\n",
    "plt.plot(np.log10(alpha_list), test_score)\n",
    "plt.xlabel('alpha')\n",
    "plt.ylabel('R^2')\n",
    "plt.show()"
   ]
  },
  {
   "cell_type": "markdown",
   "id": "d912ed91",
   "metadata": {},
   "source": [
    "위는 훈련 세트 그래프, 아래는 테스트 세트 그래프이다.  \n",
    "그래프의 왼쪽은 훈련 세트와 테스트 세트의 점수 차이가 아주 크다. 훈련 세트에는 잘 맞고 테스트 세트에는 잘 맞지 않는 과대적합의 전형적인 모습이다.  \n",
    "반대로 오른쪽은 훈련 세트와 테스트 세트 점수가 모두 낮아지는 과소적합으로 가는 모습이 보인다.  \n",
    "\n",
    "적절한 alpha 값은 두 그래프가 가장 가깝고 테스트 세트 점수가 가장 높은 -1, 즉 0.1이다.  \n",
    "alpha 값을 0.1로 하여 최종 모델을 훈련해보자."
   ]
  },
  {
   "cell_type": "code",
   "execution_count": 25,
   "id": "ef7ed4bd",
   "metadata": {},
   "outputs": [
    {
     "name": "stdout",
     "output_type": "stream",
     "text": [
      "0.9903815817570368\n",
      "0.9827976465386896\n"
     ]
    }
   ],
   "source": [
    "ridge = Ridge(alpha = 0.1)\n",
    "ridge.fit(train_scaled, train_target)\n",
    "print(ridge.score(train_scaled, train_target))\n",
    "print(ridge.score(test_scaled, test_target))"
   ]
  },
  {
   "cell_type": "markdown",
   "id": "d72127ff",
   "metadata": {},
   "source": [
    "#### 라쏘 회귀  \n",
    "라쏘 모델을 훈련하는 것은 릿지와 비슷하다. Ridge 클래스를 Lasso 클래스로 바꾸면 된다."
   ]
  },
  {
   "cell_type": "code",
   "execution_count": 26,
   "id": "0da6a1ef",
   "metadata": {},
   "outputs": [
    {
     "name": "stdout",
     "output_type": "stream",
     "text": [
      "0.989789897208096\n"
     ]
    }
   ],
   "source": [
    "from sklearn.linear_model import Lasso\n",
    "lasso = Lasso()\n",
    "lasso.fit(train_scaled, train_target)\n",
    "print(lasso.score(train_scaled, train_target))"
   ]
  }
 ],
 "metadata": {
  "kernelspec": {
   "display_name": "Python 3 (ipykernel)",
   "language": "python",
   "name": "python3"
  },
  "language_info": {
   "codemirror_mode": {
    "name": "ipython",
    "version": 3
   },
   "file_extension": ".py",
   "mimetype": "text/x-python",
   "name": "python",
   "nbconvert_exporter": "python",
   "pygments_lexer": "ipython3",
   "version": "3.9.12"
  }
 },
 "nbformat": 4,
 "nbformat_minor": 5
}
